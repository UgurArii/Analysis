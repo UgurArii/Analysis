{
 "cells": [
  {
   "cell_type": "markdown",
   "id": "613a6928-8abf-4e63-9a7c-6515109a7a93",
   "metadata": {},
   "source": [
    "#Leather\n",
    "----------------------"
   ]
  },
  {
   "cell_type": "code",
   "execution_count": 5,
   "id": "79f39c6d-d95f-4746-b1fc-0f382d2bb387",
   "metadata": {},
   "outputs": [
    {
     "name": "stdout",
     "output_type": "stream",
     "text": [
      "The Zen of Python, by Tim Peters\n",
      "\n",
      "Beautiful is better than ugly.\n",
      "Explicit is better than implicit.\n",
      "Simple is better than complex.\n",
      "Complex is better than complicated.\n",
      "Flat is better than nested.\n",
      "Sparse is better than dense.\n",
      "Readability counts.\n",
      "Special cases aren't special enough to break the rules.\n",
      "Although practicality beats purity.\n",
      "Errors should never pass silently.\n",
      "Unless explicitly silenced.\n",
      "In the face of ambiguity, refuse the temptation to guess.\n",
      "There should be one-- and preferably only one --obvious way to do it.\n",
      "Although that way may not be obvious at first unless you're Dutch.\n",
      "Now is better than never.\n",
      "Although never is often better than *right* now.\n",
      "If the implementation is hard to explain, it's a bad idea.\n",
      "If the implementation is easy to explain, it may be a good idea.\n",
      "Namespaces are one honking great idea -- let's do more of those!\n"
     ]
    }
   ],
   "source": [
    "import this\n",
    "import leather"
   ]
  },
  {
   "cell_type": "code",
   "execution_count": 7,
   "id": "87098379-6e86-4585-9e45-ecd1acdc469d",
   "metadata": {},
   "outputs": [],
   "source": [
    "data1 = [(1.5, 2), (2, 3), (4.5, 6), (7.5, 4)]\n",
    "chart = leather.Chart('Simple pairs of x-y')\n",
    "chart.add_dots(data1)\n",
    "chart.to_svg('image1.svg')"
   ]
  },
  {
   "cell_type": "code",
   "execution_count": 8,
   "id": "bff8c075-14ac-4aef-8ce7-82457483de91",
   "metadata": {},
   "outputs": [
    {
     "data": {
      "image/svg+xml": [
       "<svg xmlns=\"http://www.w3.org/2000/svg\" width=\"800\" height=\"600\" version=\"1.1\"><g><rect x=\"0\" y=\"0\" width=\"800\" height=\"600\" fill=\"#f9f9f9\"/><g transform=\"translate(40 40)\"><g transform=\"translate(16 0)\"><text x=\"0\" y=\"0\" fill=\"#333\" font-family=\"Monaco\" font-size=\"16\">Customised Dots</text></g><g transform=\"translate(0 20)\"><g transform=\"translate(16 0)\"><g class=\"axis bottom\"><g class=\"tick\"><line x1=\"234.6666666666666666666666666\" y1=\"0\" x2=\"234.6666666666666666666666666\" y2=\"482.0\" stroke=\"#eee\" stroke-width=\"1\"/><text x=\"234.6666666666666666666666666\" y=\"486.0\" dy=\"1em\" fill=\"#9c9c9c\" text-anchor=\"middle\" font-family=\"Monaco\" font-size=\"14\">2.5</text></g><g class=\"tick\"><line x1=\"469.3333333333333333333333334\" y1=\"0\" x2=\"469.3333333333333333333333334\" y2=\"482.0\" stroke=\"#eee\" stroke-width=\"1\"/><text x=\"469.3333333333333333333333334\" y=\"486.0\" dy=\"1em\" fill=\"#9c9c9c\" text-anchor=\"middle\" font-family=\"Monaco\" font-size=\"14\">5</text></g><g class=\"tick\"><line x1=\"704\" y1=\"0\" x2=\"704\" y2=\"482.0\" stroke=\"#eee\" stroke-width=\"1\"/><text x=\"704\" y=\"486.0\" dy=\"1em\" fill=\"#9c9c9c\" text-anchor=\"middle\" font-family=\"Monaco\" font-size=\"14\">7.5</text></g><g class=\"tick\"><line x1=\"0\" y1=\"0\" x2=\"0\" y2=\"482.0\" stroke=\"#a8a8a8\" stroke-width=\"1\"/><text x=\"0\" y=\"486.0\" dy=\"1em\" fill=\"#9c9c9c\" text-anchor=\"middle\" font-family=\"Monaco\" font-size=\"14\">0</text></g></g><g class=\"axis left\"><g class=\"tick\"><line x1=\"-4\" y1=\"478\" x2=\"704.0\" y2=\"478\" stroke=\"#eee\" stroke-width=\"1\"/><text x=\"-8\" y=\"478\" dy=\"0.32em\" fill=\"#9c9c9c\" text-anchor=\"end\" font-family=\"Monaco\" font-size=\"14\">2</text></g><g class=\"tick\"><line x1=\"-4\" y1=\"358.50\" x2=\"704.0\" y2=\"358.50\" stroke=\"#eee\" stroke-width=\"1\"/><text x=\"-8\" y=\"358.50\" dy=\"0.32em\" fill=\"#9c9c9c\" text-anchor=\"end\" font-family=\"Monaco\" font-size=\"14\">3</text></g><g class=\"tick\"><line x1=\"-4\" y1=\"239.0\" x2=\"704.0\" y2=\"239.0\" stroke=\"#eee\" stroke-width=\"1\"/><text x=\"-8\" y=\"239.0\" dy=\"0.32em\" fill=\"#9c9c9c\" text-anchor=\"end\" font-family=\"Monaco\" font-size=\"14\">4</text></g><g class=\"tick\"><line x1=\"-4\" y1=\"119.50\" x2=\"704.0\" y2=\"119.50\" stroke=\"#eee\" stroke-width=\"1\"/><text x=\"-8\" y=\"119.50\" dy=\"0.32em\" fill=\"#9c9c9c\" text-anchor=\"end\" font-family=\"Monaco\" font-size=\"14\">5</text></g><g class=\"tick\"><line x1=\"-4\" y1=\"0\" x2=\"704.0\" y2=\"0\" stroke=\"#eee\" stroke-width=\"1\"/><text x=\"-8\" y=\"0\" dy=\"0.32em\" fill=\"#9c9c9c\" text-anchor=\"end\" font-family=\"Monaco\" font-size=\"14\">6</text></g></g><g><g class=\"series dots\"><circle cx=\"140.8\" cy=\"478\" r=\"10\" fill=\"#00ff00\"/><circle cx=\"187.7333333333333333333333334\" cy=\"358.50\" r=\"10\" fill=\"#00ff00\"/><circle cx=\"422.4\" cy=\"0\" r=\"10\" fill=\"#00ff00\"/><circle cx=\"704\" cy=\"239.0\" r=\"10\" fill=\"#00ff00\"/></g></g></g></g></g></g></svg>"
      ],
      "text/plain": [
       "<IPython.core.display.SVG object>"
      ]
     },
     "execution_count": 8,
     "metadata": {},
     "output_type": "execute_result"
    }
   ],
   "source": [
    "chart = leather.Chart('Customised Dots')\n",
    "chart.add_dots(data1, fill_color='#00ff00', radius=10)\n",
    "chart.to_svg()"
   ]
  },
  {
   "cell_type": "code",
   "execution_count": 10,
   "id": "15d52810-0035-44a6-b1fb-016427710c5e",
   "metadata": {},
   "outputs": [
    {
     "data": {
      "image/svg+xml": [
       "<svg xmlns=\"http://www.w3.org/2000/svg\" width=\"800\" height=\"600\" version=\"1.1\"><g><rect x=\"0\" y=\"0\" width=\"800\" height=\"600\" fill=\"#f9f9f9\"/><g transform=\"translate(40 40)\"><g transform=\"translate(16 0)\"><text x=\"0\" y=\"0\" fill=\"#333\" font-family=\"Monaco\" font-size=\"16\">Visualizing Multiple series</text><g transform=\"translate(0 20)\"><g transform=\"translate(0 0)\"><rect x=\"0\" y=\"-10\" width=\"10\" height=\"10\" fill=\"#e41a1c\"/><text x=\"14\" y=\"0\" fill=\"#666\" font-family=\"Monaco\" font-size=\"14\">Unnamed series</text></g><g transform=\"translate(158 0)\"><rect x=\"0\" y=\"-10\" width=\"10\" height=\"10\" fill=\"#377eb8\"/><text x=\"14\" y=\"0\" fill=\"#666\" font-family=\"Monaco\" font-size=\"14\">Unnamed series</text></g></g></g><g transform=\"translate(0 38)\"><g transform=\"translate(16 0)\"><g class=\"axis bottom\"><g class=\"tick\"><line x1=\"234.6666666666666666666666666\" y1=\"0\" x2=\"234.6666666666666666666666666\" y2=\"464.0\" stroke=\"#eee\" stroke-width=\"1\"/><text x=\"234.6666666666666666666666666\" y=\"468.0\" dy=\"1em\" fill=\"#9c9c9c\" text-anchor=\"middle\" font-family=\"Monaco\" font-size=\"14\">2.5</text></g><g class=\"tick\"><line x1=\"469.3333333333333333333333334\" y1=\"0\" x2=\"469.3333333333333333333333334\" y2=\"464.0\" stroke=\"#eee\" stroke-width=\"1\"/><text x=\"469.3333333333333333333333334\" y=\"468.0\" dy=\"1em\" fill=\"#9c9c9c\" text-anchor=\"middle\" font-family=\"Monaco\" font-size=\"14\">5</text></g><g class=\"tick\"><line x1=\"704\" y1=\"0\" x2=\"704\" y2=\"464.0\" stroke=\"#eee\" stroke-width=\"1\"/><text x=\"704\" y=\"468.0\" dy=\"1em\" fill=\"#9c9c9c\" text-anchor=\"middle\" font-family=\"Monaco\" font-size=\"14\">7.5</text></g><g class=\"tick\"><line x1=\"0\" y1=\"0\" x2=\"0\" y2=\"464.0\" stroke=\"#a8a8a8\" stroke-width=\"1\"/><text x=\"0\" y=\"468.0\" dy=\"1em\" fill=\"#9c9c9c\" text-anchor=\"middle\" font-family=\"Monaco\" font-size=\"14\">0</text></g></g><g class=\"axis left\"><g class=\"tick\"><line x1=\"-4\" y1=\"460\" x2=\"704.0\" y2=\"460\" stroke=\"#eee\" stroke-width=\"1\"/><text x=\"-8\" y=\"460\" dy=\"0.32em\" fill=\"#9c9c9c\" text-anchor=\"end\" font-family=\"Monaco\" font-size=\"14\">2</text></g><g class=\"tick\"><line x1=\"-4\" y1=\"345.00\" x2=\"704.0\" y2=\"345.00\" stroke=\"#eee\" stroke-width=\"1\"/><text x=\"-8\" y=\"345.00\" dy=\"0.32em\" fill=\"#9c9c9c\" text-anchor=\"end\" font-family=\"Monaco\" font-size=\"14\">3</text></g><g class=\"tick\"><line x1=\"-4\" y1=\"230.0\" x2=\"704.0\" y2=\"230.0\" stroke=\"#eee\" stroke-width=\"1\"/><text x=\"-8\" y=\"230.0\" dy=\"0.32em\" fill=\"#9c9c9c\" text-anchor=\"end\" font-family=\"Monaco\" font-size=\"14\">4</text></g><g class=\"tick\"><line x1=\"-4\" y1=\"115.00\" x2=\"704.0\" y2=\"115.00\" stroke=\"#eee\" stroke-width=\"1\"/><text x=\"-8\" y=\"115.00\" dy=\"0.32em\" fill=\"#9c9c9c\" text-anchor=\"end\" font-family=\"Monaco\" font-size=\"14\">5</text></g><g class=\"tick\"><line x1=\"-4\" y1=\"0\" x2=\"704.0\" y2=\"0\" stroke=\"#eee\" stroke-width=\"1\"/><text x=\"-8\" y=\"0\" dy=\"0.32em\" fill=\"#9c9c9c\" text-anchor=\"end\" font-family=\"Monaco\" font-size=\"14\">6</text></g></g><g><g class=\"series dots\"><circle cx=\"140.8\" cy=\"460\" r=\"3\" fill=\"#e41a1c\"/><circle cx=\"187.7333333333333333333333334\" cy=\"345.00\" r=\"3\" fill=\"#e41a1c\"/><circle cx=\"422.4\" cy=\"0\" r=\"3\" fill=\"#e41a1c\"/><circle cx=\"704\" cy=\"230.0\" r=\"3\" fill=\"#e41a1c\"/></g><g class=\"series dots\"><circle cx=\"187.7333333333333333333333334\" cy=\"345.00\" r=\"3\" fill=\"#377eb8\"/><circle cx=\"375.4666666666666666666666666\" cy=\"115.00\" r=\"3\" fill=\"#377eb8\"/><circle cx=\"469.3333333333333333333333334\" cy=\"0\" r=\"3\" fill=\"#377eb8\"/><circle cx=\"657.0666666666666666666666666\" cy=\"115.00\" r=\"3\" fill=\"#377eb8\"/></g></g></g></g></g></g></svg>"
      ],
      "text/plain": [
       "<IPython.core.display.SVG object>"
      ]
     },
     "execution_count": 10,
     "metadata": {},
     "output_type": "execute_result"
    }
   ],
   "source": [
    "data2 = [(2, 3), (4, 5), (5, 6), (7, 5)]\n",
    "chart = leather.Chart('Visualizing Multiple series')\n",
    "chart.add_dots(data1)\n",
    "chart.add_dots(data2)\n",
    "chart.to_svg()"
   ]
  },
  {
   "cell_type": "code",
   "execution_count": 11,
   "id": "da42d5d6-9691-47fc-bafb-521e02dc869b",
   "metadata": {},
   "outputs": [
    {
     "data": {
      "image/svg+xml": [
       "<svg xmlns=\"http://www.w3.org/2000/svg\" width=\"800\" height=\"600\" version=\"1.1\"><g><rect x=\"0\" y=\"0\" width=\"800\" height=\"600\" fill=\"#f9f9f9\"/><g transform=\"translate(40 40)\"><g transform=\"translate(16 0)\"><text x=\"0\" y=\"0\" fill=\"#333\" font-family=\"Monaco\" font-size=\"16\">Visualizing Lines</text></g><g transform=\"translate(0 20)\"><g transform=\"translate(16 0)\"><g class=\"axis bottom\"><g class=\"tick\"><line x1=\"234.6666666666666666666666666\" y1=\"0\" x2=\"234.6666666666666666666666666\" y2=\"482.0\" stroke=\"#eee\" stroke-width=\"1\"/><text x=\"234.6666666666666666666666666\" y=\"486.0\" dy=\"1em\" fill=\"#9c9c9c\" text-anchor=\"middle\" font-family=\"Monaco\" font-size=\"14\">2.5</text></g><g class=\"tick\"><line x1=\"469.3333333333333333333333334\" y1=\"0\" x2=\"469.3333333333333333333333334\" y2=\"482.0\" stroke=\"#eee\" stroke-width=\"1\"/><text x=\"469.3333333333333333333333334\" y=\"486.0\" dy=\"1em\" fill=\"#9c9c9c\" text-anchor=\"middle\" font-family=\"Monaco\" font-size=\"14\">5</text></g><g class=\"tick\"><line x1=\"704\" y1=\"0\" x2=\"704\" y2=\"482.0\" stroke=\"#eee\" stroke-width=\"1\"/><text x=\"704\" y=\"486.0\" dy=\"1em\" fill=\"#9c9c9c\" text-anchor=\"middle\" font-family=\"Monaco\" font-size=\"14\">7.5</text></g><g class=\"tick\"><line x1=\"0\" y1=\"0\" x2=\"0\" y2=\"482.0\" stroke=\"#a8a8a8\" stroke-width=\"1\"/><text x=\"0\" y=\"486.0\" dy=\"1em\" fill=\"#9c9c9c\" text-anchor=\"middle\" font-family=\"Monaco\" font-size=\"14\">0</text></g></g><g class=\"axis left\"><g class=\"tick\"><line x1=\"-4\" y1=\"478\" x2=\"704.0\" y2=\"478\" stroke=\"#eee\" stroke-width=\"1\"/><text x=\"-8\" y=\"478\" dy=\"0.32em\" fill=\"#9c9c9c\" text-anchor=\"end\" font-family=\"Monaco\" font-size=\"14\">2</text></g><g class=\"tick\"><line x1=\"-4\" y1=\"358.50\" x2=\"704.0\" y2=\"358.50\" stroke=\"#eee\" stroke-width=\"1\"/><text x=\"-8\" y=\"358.50\" dy=\"0.32em\" fill=\"#9c9c9c\" text-anchor=\"end\" font-family=\"Monaco\" font-size=\"14\">3</text></g><g class=\"tick\"><line x1=\"-4\" y1=\"239.0\" x2=\"704.0\" y2=\"239.0\" stroke=\"#eee\" stroke-width=\"1\"/><text x=\"-8\" y=\"239.0\" dy=\"0.32em\" fill=\"#9c9c9c\" text-anchor=\"end\" font-family=\"Monaco\" font-size=\"14\">4</text></g><g class=\"tick\"><line x1=\"-4\" y1=\"119.50\" x2=\"704.0\" y2=\"119.50\" stroke=\"#eee\" stroke-width=\"1\"/><text x=\"-8\" y=\"119.50\" dy=\"0.32em\" fill=\"#9c9c9c\" text-anchor=\"end\" font-family=\"Monaco\" font-size=\"14\">5</text></g><g class=\"tick\"><line x1=\"-4\" y1=\"0\" x2=\"704.0\" y2=\"0\" stroke=\"#eee\" stroke-width=\"1\"/><text x=\"-8\" y=\"0\" dy=\"0.32em\" fill=\"#9c9c9c\" text-anchor=\"end\" font-family=\"Monaco\" font-size=\"14\">6</text></g></g><g><g class=\"series lines\"><path stroke=\"#e41a1c\" fill=\"none\" stroke-width=\"2\" d=\"M 140.8 478 L 187.7333333333333333333333334 358.50 L 422.4 0 L 704 239.0\"/></g></g></g></g></g></g></svg>"
      ],
      "text/plain": [
       "<IPython.core.display.SVG object>"
      ]
     },
     "execution_count": 11,
     "metadata": {},
     "output_type": "execute_result"
    }
   ],
   "source": [
    "chart = leather.Chart('Visualizing Lines')\n",
    "chart.add_line(data1)\n",
    "chart.to_svg()"
   ]
  },
  {
   "cell_type": "code",
   "execution_count": 14,
   "id": "df4e3c8b-3034-4c05-8a7f-66561f161c08",
   "metadata": {},
   "outputs": [
    {
     "data": {
      "image/svg+xml": [
       "<svg xmlns=\"http://www.w3.org/2000/svg\" width=\"800\" height=\"600\" version=\"1.1\"><g><rect x=\"0\" y=\"0\" width=\"800\" height=\"600\" fill=\"#f9f9f9\"/><g transform=\"translate(40 40)\"><g transform=\"translate(16 0)\"><text x=\"0\" y=\"0\" fill=\"#333\" font-family=\"Monaco\" font-size=\"16\">Customized Line</text></g><g transform=\"translate(0 20)\"><g transform=\"translate(16 0)\"><g class=\"axis bottom\"><g class=\"tick\"><line x1=\"234.6666666666666666666666666\" y1=\"0\" x2=\"234.6666666666666666666666666\" y2=\"482.0\" stroke=\"#eee\" stroke-width=\"1\"/><text x=\"234.6666666666666666666666666\" y=\"486.0\" dy=\"1em\" fill=\"#9c9c9c\" text-anchor=\"middle\" font-family=\"Monaco\" font-size=\"14\">2.5</text></g><g class=\"tick\"><line x1=\"469.3333333333333333333333334\" y1=\"0\" x2=\"469.3333333333333333333333334\" y2=\"482.0\" stroke=\"#eee\" stroke-width=\"1\"/><text x=\"469.3333333333333333333333334\" y=\"486.0\" dy=\"1em\" fill=\"#9c9c9c\" text-anchor=\"middle\" font-family=\"Monaco\" font-size=\"14\">5</text></g><g class=\"tick\"><line x1=\"704\" y1=\"0\" x2=\"704\" y2=\"482.0\" stroke=\"#eee\" stroke-width=\"1\"/><text x=\"704\" y=\"486.0\" dy=\"1em\" fill=\"#9c9c9c\" text-anchor=\"middle\" font-family=\"Monaco\" font-size=\"14\">7.5</text></g><g class=\"tick\"><line x1=\"0\" y1=\"0\" x2=\"0\" y2=\"482.0\" stroke=\"#a8a8a8\" stroke-width=\"1\"/><text x=\"0\" y=\"486.0\" dy=\"1em\" fill=\"#9c9c9c\" text-anchor=\"middle\" font-family=\"Monaco\" font-size=\"14\">0</text></g></g><g class=\"axis left\"><g class=\"tick\"><line x1=\"-4\" y1=\"478\" x2=\"704.0\" y2=\"478\" stroke=\"#eee\" stroke-width=\"1\"/><text x=\"-8\" y=\"478\" dy=\"0.32em\" fill=\"#9c9c9c\" text-anchor=\"end\" font-family=\"Monaco\" font-size=\"14\">2</text></g><g class=\"tick\"><line x1=\"-4\" y1=\"358.50\" x2=\"704.0\" y2=\"358.50\" stroke=\"#eee\" stroke-width=\"1\"/><text x=\"-8\" y=\"358.50\" dy=\"0.32em\" fill=\"#9c9c9c\" text-anchor=\"end\" font-family=\"Monaco\" font-size=\"14\">3</text></g><g class=\"tick\"><line x1=\"-4\" y1=\"239.0\" x2=\"704.0\" y2=\"239.0\" stroke=\"#eee\" stroke-width=\"1\"/><text x=\"-8\" y=\"239.0\" dy=\"0.32em\" fill=\"#9c9c9c\" text-anchor=\"end\" font-family=\"Monaco\" font-size=\"14\">4</text></g><g class=\"tick\"><line x1=\"-4\" y1=\"119.50\" x2=\"704.0\" y2=\"119.50\" stroke=\"#eee\" stroke-width=\"1\"/><text x=\"-8\" y=\"119.50\" dy=\"0.32em\" fill=\"#9c9c9c\" text-anchor=\"end\" font-family=\"Monaco\" font-size=\"14\">5</text></g><g class=\"tick\"><line x1=\"-4\" y1=\"0\" x2=\"704.0\" y2=\"0\" stroke=\"#eee\" stroke-width=\"1\"/><text x=\"-8\" y=\"0\" dy=\"0.32em\" fill=\"#9c9c9c\" text-anchor=\"end\" font-family=\"Monaco\" font-size=\"14\">6</text></g></g><g><g class=\"series lines\"><path stroke=\"#0000ff\" fill=\"none\" stroke-width=\"3\" d=\"M 140.8 478 L 187.7333333333333333333333334 358.50 L 422.4 0 L 704 239.0\"/></g></g></g></g></g></g></svg>"
      ],
      "text/plain": [
       "<IPython.core.display.SVG object>"
      ]
     },
     "execution_count": 14,
     "metadata": {},
     "output_type": "execute_result"
    }
   ],
   "source": [
    "chart = leather.Chart('Customized Line')\n",
    "chart.add_line(data1,stroke_color='#0000ff', width=3)\n",
    "chart.to_svg()"
   ]
  },
  {
   "cell_type": "code",
   "execution_count": 15,
   "id": "7d6d0c65-100e-4d6d-8bcc-09067c77e73f",
   "metadata": {},
   "outputs": [
    {
     "data": {
      "image/svg+xml": [
       "<svg xmlns=\"http://www.w3.org/2000/svg\" width=\"800\" height=\"600\" version=\"1.1\"><g><rect x=\"0\" y=\"0\" width=\"800\" height=\"600\" fill=\"#f9f9f9\"/><g transform=\"translate(40 40)\"><g transform=\"translate(16 0)\"><text x=\"0\" y=\"0\" fill=\"#333\" font-family=\"Monaco\" font-size=\"16\">Visualizing Multiple Lines</text><g transform=\"translate(0 20)\"><g transform=\"translate(0 0)\"><rect x=\"0\" y=\"-10\" width=\"10\" height=\"10\" fill=\"#e41a1c\"/><text x=\"14\" y=\"0\" fill=\"#666\" font-family=\"Monaco\" font-size=\"14\">Unnamed series</text></g><g transform=\"translate(158 0)\"><rect x=\"0\" y=\"-10\" width=\"10\" height=\"10\" fill=\"#377eb8\"/><text x=\"14\" y=\"0\" fill=\"#666\" font-family=\"Monaco\" font-size=\"14\">Unnamed series</text></g></g></g><g transform=\"translate(0 38)\"><g transform=\"translate(16 0)\"><g class=\"axis bottom\"><g class=\"tick\"><line x1=\"234.6666666666666666666666666\" y1=\"0\" x2=\"234.6666666666666666666666666\" y2=\"464.0\" stroke=\"#eee\" stroke-width=\"1\"/><text x=\"234.6666666666666666666666666\" y=\"468.0\" dy=\"1em\" fill=\"#9c9c9c\" text-anchor=\"middle\" font-family=\"Monaco\" font-size=\"14\">2.5</text></g><g class=\"tick\"><line x1=\"469.3333333333333333333333334\" y1=\"0\" x2=\"469.3333333333333333333333334\" y2=\"464.0\" stroke=\"#eee\" stroke-width=\"1\"/><text x=\"469.3333333333333333333333334\" y=\"468.0\" dy=\"1em\" fill=\"#9c9c9c\" text-anchor=\"middle\" font-family=\"Monaco\" font-size=\"14\">5</text></g><g class=\"tick\"><line x1=\"704\" y1=\"0\" x2=\"704\" y2=\"464.0\" stroke=\"#eee\" stroke-width=\"1\"/><text x=\"704\" y=\"468.0\" dy=\"1em\" fill=\"#9c9c9c\" text-anchor=\"middle\" font-family=\"Monaco\" font-size=\"14\">7.5</text></g><g class=\"tick\"><line x1=\"0\" y1=\"0\" x2=\"0\" y2=\"464.0\" stroke=\"#a8a8a8\" stroke-width=\"1\"/><text x=\"0\" y=\"468.0\" dy=\"1em\" fill=\"#9c9c9c\" text-anchor=\"middle\" font-family=\"Monaco\" font-size=\"14\">0</text></g></g><g class=\"axis left\"><g class=\"tick\"><line x1=\"-4\" y1=\"460\" x2=\"704.0\" y2=\"460\" stroke=\"#eee\" stroke-width=\"1\"/><text x=\"-8\" y=\"460\" dy=\"0.32em\" fill=\"#9c9c9c\" text-anchor=\"end\" font-family=\"Monaco\" font-size=\"14\">2</text></g><g class=\"tick\"><line x1=\"-4\" y1=\"345.00\" x2=\"704.0\" y2=\"345.00\" stroke=\"#eee\" stroke-width=\"1\"/><text x=\"-8\" y=\"345.00\" dy=\"0.32em\" fill=\"#9c9c9c\" text-anchor=\"end\" font-family=\"Monaco\" font-size=\"14\">3</text></g><g class=\"tick\"><line x1=\"-4\" y1=\"230.0\" x2=\"704.0\" y2=\"230.0\" stroke=\"#eee\" stroke-width=\"1\"/><text x=\"-8\" y=\"230.0\" dy=\"0.32em\" fill=\"#9c9c9c\" text-anchor=\"end\" font-family=\"Monaco\" font-size=\"14\">4</text></g><g class=\"tick\"><line x1=\"-4\" y1=\"115.00\" x2=\"704.0\" y2=\"115.00\" stroke=\"#eee\" stroke-width=\"1\"/><text x=\"-8\" y=\"115.00\" dy=\"0.32em\" fill=\"#9c9c9c\" text-anchor=\"end\" font-family=\"Monaco\" font-size=\"14\">5</text></g><g class=\"tick\"><line x1=\"-4\" y1=\"0\" x2=\"704.0\" y2=\"0\" stroke=\"#eee\" stroke-width=\"1\"/><text x=\"-8\" y=\"0\" dy=\"0.32em\" fill=\"#9c9c9c\" text-anchor=\"end\" font-family=\"Monaco\" font-size=\"14\">6</text></g></g><g><g class=\"series lines\"><path stroke=\"#e41a1c\" fill=\"none\" stroke-width=\"2\" d=\"M 140.8 460 L 187.7333333333333333333333334 345.00 L 422.4 0 L 704 230.0\"/></g><g class=\"series lines\"><path stroke=\"#377eb8\" fill=\"none\" stroke-width=\"2\" d=\"M 187.7333333333333333333333334 345.00 L 375.4666666666666666666666666 115.00 L 469.3333333333333333333333334 0 L 657.0666666666666666666666666 115.00\"/></g></g></g></g></g></g></svg>"
      ],
      "text/plain": [
       "<IPython.core.display.SVG object>"
      ]
     },
     "execution_count": 15,
     "metadata": {},
     "output_type": "execute_result"
    }
   ],
   "source": [
    "chart = leather.Chart('Visualizing Multiple Lines')\n",
    "chart.add_line(data1)\n",
    "chart.add_line(data2)\n",
    "chart.to_svg()"
   ]
  },
  {
   "cell_type": "code",
   "execution_count": 16,
   "id": "d2269d2e-34d0-4ca7-aca1-9e9480136cc3",
   "metadata": {},
   "outputs": [
    {
     "data": {
      "image/svg+xml": [
       "<svg xmlns=\"http://www.w3.org/2000/svg\" width=\"800\" height=\"600\" version=\"1.1\"><g><rect x=\"0\" y=\"0\" width=\"800\" height=\"600\" fill=\"#f9f9f9\"/><g transform=\"translate(40 40)\"><g transform=\"translate(16 0)\"><text x=\"0\" y=\"0\" fill=\"#333\" font-family=\"Monaco\" font-size=\"16\">Visualizing Multiple Types</text><g transform=\"translate(0 20)\"><g transform=\"translate(0 0)\"><rect x=\"0\" y=\"-10\" width=\"10\" height=\"10\" fill=\"#e41a1c\"/><text x=\"14\" y=\"0\" fill=\"#666\" font-family=\"Monaco\" font-size=\"14\">Unnamed series</text></g><g transform=\"translate(158 0)\"><rect x=\"0\" y=\"-10\" width=\"10\" height=\"10\" fill=\"#377eb8\"/><text x=\"14\" y=\"0\" fill=\"#666\" font-family=\"Monaco\" font-size=\"14\">Unnamed series</text></g></g></g><g transform=\"translate(0 38)\"><g transform=\"translate(16 0)\"><g class=\"axis bottom\"><g class=\"tick\"><line x1=\"234.6666666666666666666666666\" y1=\"0\" x2=\"234.6666666666666666666666666\" y2=\"464.0\" stroke=\"#eee\" stroke-width=\"1\"/><text x=\"234.6666666666666666666666666\" y=\"468.0\" dy=\"1em\" fill=\"#9c9c9c\" text-anchor=\"middle\" font-family=\"Monaco\" font-size=\"14\">2.5</text></g><g class=\"tick\"><line x1=\"469.3333333333333333333333334\" y1=\"0\" x2=\"469.3333333333333333333333334\" y2=\"464.0\" stroke=\"#eee\" stroke-width=\"1\"/><text x=\"469.3333333333333333333333334\" y=\"468.0\" dy=\"1em\" fill=\"#9c9c9c\" text-anchor=\"middle\" font-family=\"Monaco\" font-size=\"14\">5</text></g><g class=\"tick\"><line x1=\"704\" y1=\"0\" x2=\"704\" y2=\"464.0\" stroke=\"#eee\" stroke-width=\"1\"/><text x=\"704\" y=\"468.0\" dy=\"1em\" fill=\"#9c9c9c\" text-anchor=\"middle\" font-family=\"Monaco\" font-size=\"14\">7.5</text></g><g class=\"tick\"><line x1=\"0\" y1=\"0\" x2=\"0\" y2=\"464.0\" stroke=\"#a8a8a8\" stroke-width=\"1\"/><text x=\"0\" y=\"468.0\" dy=\"1em\" fill=\"#9c9c9c\" text-anchor=\"middle\" font-family=\"Monaco\" font-size=\"14\">0</text></g></g><g class=\"axis left\"><g class=\"tick\"><line x1=\"-4\" y1=\"460\" x2=\"704.0\" y2=\"460\" stroke=\"#eee\" stroke-width=\"1\"/><text x=\"-8\" y=\"460\" dy=\"0.32em\" fill=\"#9c9c9c\" text-anchor=\"end\" font-family=\"Monaco\" font-size=\"14\">2</text></g><g class=\"tick\"><line x1=\"-4\" y1=\"345.00\" x2=\"704.0\" y2=\"345.00\" stroke=\"#eee\" stroke-width=\"1\"/><text x=\"-8\" y=\"345.00\" dy=\"0.32em\" fill=\"#9c9c9c\" text-anchor=\"end\" font-family=\"Monaco\" font-size=\"14\">3</text></g><g class=\"tick\"><line x1=\"-4\" y1=\"230.0\" x2=\"704.0\" y2=\"230.0\" stroke=\"#eee\" stroke-width=\"1\"/><text x=\"-8\" y=\"230.0\" dy=\"0.32em\" fill=\"#9c9c9c\" text-anchor=\"end\" font-family=\"Monaco\" font-size=\"14\">4</text></g><g class=\"tick\"><line x1=\"-4\" y1=\"115.00\" x2=\"704.0\" y2=\"115.00\" stroke=\"#eee\" stroke-width=\"1\"/><text x=\"-8\" y=\"115.00\" dy=\"0.32em\" fill=\"#9c9c9c\" text-anchor=\"end\" font-family=\"Monaco\" font-size=\"14\">5</text></g><g class=\"tick\"><line x1=\"-4\" y1=\"0\" x2=\"704.0\" y2=\"0\" stroke=\"#eee\" stroke-width=\"1\"/><text x=\"-8\" y=\"0\" dy=\"0.32em\" fill=\"#9c9c9c\" text-anchor=\"end\" font-family=\"Monaco\" font-size=\"14\">6</text></g></g><g><g class=\"series lines\"><path stroke=\"#e41a1c\" fill=\"none\" stroke-width=\"2\" d=\"M 140.8 460 L 187.7333333333333333333333334 345.00 L 422.4 0 L 704 230.0\"/></g><g class=\"series dots\"><circle cx=\"187.7333333333333333333333334\" cy=\"345.00\" r=\"3\" fill=\"#377eb8\"/><circle cx=\"375.4666666666666666666666666\" cy=\"115.00\" r=\"3\" fill=\"#377eb8\"/><circle cx=\"469.3333333333333333333333334\" cy=\"0\" r=\"3\" fill=\"#377eb8\"/><circle cx=\"657.0666666666666666666666666\" cy=\"115.00\" r=\"3\" fill=\"#377eb8\"/></g></g></g></g></g></g></svg>"
      ],
      "text/plain": [
       "<IPython.core.display.SVG object>"
      ]
     },
     "execution_count": 16,
     "metadata": {},
     "output_type": "execute_result"
    }
   ],
   "source": [
    "chart = leather.Chart('Visualizing Multiple Types')\n",
    "chart.add_line(data1)\n",
    "chart.add_dots(data2)\n",
    "chart.to_svg()"
   ]
  },
  {
   "cell_type": "code",
   "execution_count": 17,
   "id": "7cdd5306-1d76-41db-a28b-2d8309c23e67",
   "metadata": {},
   "outputs": [
    {
     "data": {
      "image/svg+xml": [
       "<svg xmlns=\"http://www.w3.org/2000/svg\" width=\"800\" height=\"600\" version=\"1.1\"><g><rect x=\"0\" y=\"0\" width=\"800\" height=\"600\" fill=\"#f9f9f9\"/><g transform=\"translate(40 40)\"><g transform=\"translate(16 0)\"><text x=\"0\" y=\"0\" fill=\"#333\" font-family=\"Monaco\" font-size=\"16\">Visualizing Bars</text></g><g transform=\"translate(0 20)\"><g transform=\"translate(16 0)\"><g class=\"axis bottom\"><g class=\"tick\"><line x1=\"176.00\" y1=\"0\" x2=\"176.00\" y2=\"482.0\" stroke=\"#eee\" stroke-width=\"1\"/><text x=\"176.00\" y=\"486.0\" dy=\"1em\" fill=\"#9c9c9c\" text-anchor=\"middle\" font-family=\"Monaco\" font-size=\"14\">1</text></g><g class=\"tick\"><line x1=\"352.0\" y1=\"0\" x2=\"352.0\" y2=\"482.0\" stroke=\"#eee\" stroke-width=\"1\"/><text x=\"352.0\" y=\"486.0\" dy=\"1em\" fill=\"#9c9c9c\" text-anchor=\"middle\" font-family=\"Monaco\" font-size=\"14\">2</text></g><g class=\"tick\"><line x1=\"528.00\" y1=\"0\" x2=\"528.00\" y2=\"482.0\" stroke=\"#eee\" stroke-width=\"1\"/><text x=\"528.00\" y=\"486.0\" dy=\"1em\" fill=\"#9c9c9c\" text-anchor=\"middle\" font-family=\"Monaco\" font-size=\"14\">3</text></g><g class=\"tick\"><line x1=\"704\" y1=\"0\" x2=\"704\" y2=\"482.0\" stroke=\"#eee\" stroke-width=\"1\"/><text x=\"704\" y=\"486.0\" dy=\"1em\" fill=\"#9c9c9c\" text-anchor=\"middle\" font-family=\"Monaco\" font-size=\"14\">4</text></g><g class=\"tick\"><line x1=\"0\" y1=\"0\" x2=\"0\" y2=\"482.0\" stroke=\"#a8a8a8\" stroke-width=\"1\"/><text x=\"0\" y=\"486.0\" dy=\"1em\" fill=\"#9c9c9c\" text-anchor=\"middle\" font-family=\"Monaco\" font-size=\"14\">0</text></g></g><g class=\"axis left\"><g class=\"tick\"><line x1=\"-4\" y1=\"418.25\" x2=\"704.0\" y2=\"418.25\" stroke=\"#eee\" stroke-width=\"1\"/><text x=\"-8\" y=\"418.25\" dy=\"0.32em\" fill=\"#9c9c9c\" text-anchor=\"end\" font-family=\"Monaco\" font-size=\"14\">D</text></g><g class=\"tick\"><line x1=\"-4\" y1=\"298.75\" x2=\"704.0\" y2=\"298.75\" stroke=\"#eee\" stroke-width=\"1\"/><text x=\"-8\" y=\"298.75\" dy=\"0.32em\" fill=\"#9c9c9c\" text-anchor=\"end\" font-family=\"Monaco\" font-size=\"14\">C</text></g><g class=\"tick\"><line x1=\"-4\" y1=\"179.25\" x2=\"704.0\" y2=\"179.25\" stroke=\"#eee\" stroke-width=\"1\"/><text x=\"-8\" y=\"179.25\" dy=\"0.32em\" fill=\"#9c9c9c\" text-anchor=\"end\" font-family=\"Monaco\" font-size=\"14\">B</text></g><g class=\"tick\"><line x1=\"-4\" y1=\"59.75\" x2=\"704.0\" y2=\"59.75\" stroke=\"#eee\" stroke-width=\"1\"/><text x=\"-8\" y=\"59.75\" dy=\"0.32em\" fill=\"#9c9c9c\" text-anchor=\"end\" font-family=\"Monaco\" font-size=\"14\">A</text></g></g><g><g class=\"series bars\"><rect x=\"0\" y=\"364.475\" width=\"704\" height=\"107.550\" fill=\"#e41a1c\"/><rect x=\"0\" y=\"244.975\" width=\"528.00\" height=\"107.550\" fill=\"#e41a1c\"/><rect x=\"0\" y=\"125.475\" width=\"352.0\" height=\"107.550\" fill=\"#e41a1c\"/><rect x=\"0\" y=\"5.975\" width=\"176.00\" height=\"107.550\" fill=\"#e41a1c\"/></g></g></g></g></g></g></svg>"
      ],
      "text/plain": [
       "<IPython.core.display.SVG object>"
      ]
     },
     "execution_count": 17,
     "metadata": {},
     "output_type": "execute_result"
    }
   ],
   "source": [
    "data = [[1, 'A'], [2, 'B'], [3, 'C'], [4, 'D']]\n",
    "chart = leather.Chart('Visualizing Bars')\n",
    "chart.add_bars(data)\n",
    "chart.to_svg()"
   ]
  },
  {
   "cell_type": "code",
   "execution_count": 18,
   "id": "890cd9e9-ee9f-447d-865a-b835c8cb9d14",
   "metadata": {},
   "outputs": [
    {
     "data": {
      "image/svg+xml": [
       "<svg xmlns=\"http://www.w3.org/2000/svg\" width=\"800\" height=\"600\" version=\"1.1\"><g><rect x=\"0\" y=\"0\" width=\"800\" height=\"600\" fill=\"#f9f9f9\"/><g transform=\"translate(40 40)\"><g transform=\"translate(16 0)\"><text x=\"0\" y=\"0\" fill=\"#333\" font-family=\"Monaco\" font-size=\"16\">Customizing Bars</text></g><g transform=\"translate(0 20)\"><g transform=\"translate(16 0)\"><g class=\"axis bottom\"><g class=\"tick\"><line x1=\"176.00\" y1=\"0\" x2=\"176.00\" y2=\"482.0\" stroke=\"#eee\" stroke-width=\"1\"/><text x=\"176.00\" y=\"486.0\" dy=\"1em\" fill=\"#9c9c9c\" text-anchor=\"middle\" font-family=\"Monaco\" font-size=\"14\">1</text></g><g class=\"tick\"><line x1=\"352.0\" y1=\"0\" x2=\"352.0\" y2=\"482.0\" stroke=\"#eee\" stroke-width=\"1\"/><text x=\"352.0\" y=\"486.0\" dy=\"1em\" fill=\"#9c9c9c\" text-anchor=\"middle\" font-family=\"Monaco\" font-size=\"14\">2</text></g><g class=\"tick\"><line x1=\"528.00\" y1=\"0\" x2=\"528.00\" y2=\"482.0\" stroke=\"#eee\" stroke-width=\"1\"/><text x=\"528.00\" y=\"486.0\" dy=\"1em\" fill=\"#9c9c9c\" text-anchor=\"middle\" font-family=\"Monaco\" font-size=\"14\">3</text></g><g class=\"tick\"><line x1=\"704\" y1=\"0\" x2=\"704\" y2=\"482.0\" stroke=\"#eee\" stroke-width=\"1\"/><text x=\"704\" y=\"486.0\" dy=\"1em\" fill=\"#9c9c9c\" text-anchor=\"middle\" font-family=\"Monaco\" font-size=\"14\">4</text></g><g class=\"tick\"><line x1=\"0\" y1=\"0\" x2=\"0\" y2=\"482.0\" stroke=\"#a8a8a8\" stroke-width=\"1\"/><text x=\"0\" y=\"486.0\" dy=\"1em\" fill=\"#9c9c9c\" text-anchor=\"middle\" font-family=\"Monaco\" font-size=\"14\">0</text></g></g><g class=\"axis left\"><g class=\"tick\"><line x1=\"-4\" y1=\"418.25\" x2=\"704.0\" y2=\"418.25\" stroke=\"#eee\" stroke-width=\"1\"/><text x=\"-8\" y=\"418.25\" dy=\"0.32em\" fill=\"#9c9c9c\" text-anchor=\"end\" font-family=\"Monaco\" font-size=\"14\">D</text></g><g class=\"tick\"><line x1=\"-4\" y1=\"298.75\" x2=\"704.0\" y2=\"298.75\" stroke=\"#eee\" stroke-width=\"1\"/><text x=\"-8\" y=\"298.75\" dy=\"0.32em\" fill=\"#9c9c9c\" text-anchor=\"end\" font-family=\"Monaco\" font-size=\"14\">C</text></g><g class=\"tick\"><line x1=\"-4\" y1=\"179.25\" x2=\"704.0\" y2=\"179.25\" stroke=\"#eee\" stroke-width=\"1\"/><text x=\"-8\" y=\"179.25\" dy=\"0.32em\" fill=\"#9c9c9c\" text-anchor=\"end\" font-family=\"Monaco\" font-size=\"14\">B</text></g><g class=\"tick\"><line x1=\"-4\" y1=\"59.75\" x2=\"704.0\" y2=\"59.75\" stroke=\"#eee\" stroke-width=\"1\"/><text x=\"-8\" y=\"59.75\" dy=\"0.32em\" fill=\"#9c9c9c\" text-anchor=\"end\" font-family=\"Monaco\" font-size=\"14\">A</text></g></g><g><g class=\"series bars\"><rect x=\"0\" y=\"364.475\" width=\"704\" height=\"107.550\" fill=\"#777777\"/><rect x=\"0\" y=\"244.975\" width=\"528.00\" height=\"107.550\" fill=\"#777777\"/><rect x=\"0\" y=\"125.475\" width=\"352.0\" height=\"107.550\" fill=\"#777777\"/><rect x=\"0\" y=\"5.975\" width=\"176.00\" height=\"107.550\" fill=\"#777777\"/></g></g></g></g></g></g></svg>"
      ],
      "text/plain": [
       "<IPython.core.display.SVG object>"
      ]
     },
     "execution_count": 18,
     "metadata": {},
     "output_type": "execute_result"
    }
   ],
   "source": [
    "chart = leather.Chart('Customizing Bars')\n",
    "chart.add_bars(data, fill_color='#777777')\n",
    "chart.to_svg()"
   ]
  },
  {
   "cell_type": "code",
   "execution_count": 20,
   "id": "c58fed53-c7c5-4fa5-858f-ccfccec5e697",
   "metadata": {},
   "outputs": [
    {
     "data": {
      "image/svg+xml": [
       "<svg xmlns=\"http://www.w3.org/2000/svg\" width=\"800\" height=\"600\" version=\"1.1\"><g><rect x=\"0\" y=\"0\" width=\"800\" height=\"600\" fill=\"#f9f9f9\"/><g transform=\"translate(40 40)\"><g transform=\"translate(16 0)\"><text x=\"0\" y=\"0\" fill=\"#333\" font-family=\"Monaco\" font-size=\"16\">Visualizing Columns</text></g><g transform=\"translate(0 20)\"><g transform=\"translate(16 0)\"><g class=\"axis bottom\"><g class=\"tick\"><line x1=\"88\" y1=\"0\" x2=\"88\" y2=\"482.0\" stroke=\"#eee\" stroke-width=\"1\"/><text x=\"88\" y=\"486.0\" dy=\"1em\" fill=\"#9c9c9c\" text-anchor=\"middle\" font-family=\"Monaco\" font-size=\"14\">A</text></g><g class=\"tick\"><line x1=\"264\" y1=\"0\" x2=\"264\" y2=\"482.0\" stroke=\"#eee\" stroke-width=\"1\"/><text x=\"264\" y=\"486.0\" dy=\"1em\" fill=\"#9c9c9c\" text-anchor=\"middle\" font-family=\"Monaco\" font-size=\"14\">B</text></g><g class=\"tick\"><line x1=\"440\" y1=\"0\" x2=\"440\" y2=\"482.0\" stroke=\"#eee\" stroke-width=\"1\"/><text x=\"440\" y=\"486.0\" dy=\"1em\" fill=\"#9c9c9c\" text-anchor=\"middle\" font-family=\"Monaco\" font-size=\"14\">C</text></g><g class=\"tick\"><line x1=\"616\" y1=\"0\" x2=\"616\" y2=\"482.0\" stroke=\"#eee\" stroke-width=\"1\"/><text x=\"616\" y=\"486.0\" dy=\"1em\" fill=\"#9c9c9c\" text-anchor=\"middle\" font-family=\"Monaco\" font-size=\"14\">D</text></g></g><g class=\"axis left\"><g class=\"tick\"><line x1=\"-4\" y1=\"358.50\" x2=\"704.0\" y2=\"358.50\" stroke=\"#eee\" stroke-width=\"1\"/><text x=\"-8\" y=\"358.50\" dy=\"0.32em\" fill=\"#9c9c9c\" text-anchor=\"end\" font-family=\"Monaco\" font-size=\"14\">1</text></g><g class=\"tick\"><line x1=\"-4\" y1=\"239.0\" x2=\"704.0\" y2=\"239.0\" stroke=\"#eee\" stroke-width=\"1\"/><text x=\"-8\" y=\"239.0\" dy=\"0.32em\" fill=\"#9c9c9c\" text-anchor=\"end\" font-family=\"Monaco\" font-size=\"14\">2</text></g><g class=\"tick\"><line x1=\"-4\" y1=\"119.50\" x2=\"704.0\" y2=\"119.50\" stroke=\"#eee\" stroke-width=\"1\"/><text x=\"-8\" y=\"119.50\" dy=\"0.32em\" fill=\"#9c9c9c\" text-anchor=\"end\" font-family=\"Monaco\" font-size=\"14\">3</text></g><g class=\"tick\"><line x1=\"-4\" y1=\"0\" x2=\"704.0\" y2=\"0\" stroke=\"#eee\" stroke-width=\"1\"/><text x=\"-8\" y=\"0\" dy=\"0.32em\" fill=\"#9c9c9c\" text-anchor=\"end\" font-family=\"Monaco\" font-size=\"14\">4</text></g><g class=\"tick\"><line x1=\"-4\" y1=\"478\" x2=\"704.0\" y2=\"478\" stroke=\"#a8a8a8\" stroke-width=\"1\"/><text x=\"-8\" y=\"478\" dy=\"0.32em\" fill=\"#9c9c9c\" text-anchor=\"end\" font-family=\"Monaco\" font-size=\"14\">0</text></g></g><g><g class=\"series columns\"><rect x=\"8.8\" y=\"358.50\" width=\"158.4\" height=\"119.50\" fill=\"#e41a1c\"/><rect x=\"184.8\" y=\"239.0\" width=\"158.4\" height=\"239.0\" fill=\"#e41a1c\"/><rect x=\"360.8\" y=\"119.50\" width=\"158.4\" height=\"358.50\" fill=\"#e41a1c\"/><rect x=\"536.8\" y=\"0\" width=\"158.4\" height=\"478\" fill=\"#e41a1c\"/></g></g></g></g></g></g></svg>"
      ],
      "text/plain": [
       "<IPython.core.display.SVG object>"
      ]
     },
     "execution_count": 20,
     "metadata": {},
     "output_type": "execute_result"
    }
   ],
   "source": [
    "data = [ ('A', 1), ('B', 2), ('C', 3), ('D', 4)]\n",
    "chart = leather.Chart('Visualizing Columns')\n",
    "chart.add_columns(data)\n",
    "chart.to_svg()"
   ]
  },
  {
   "cell_type": "code",
   "execution_count": 21,
   "id": "0642ac96-813b-4b33-9fa2-abd0dcc29632",
   "metadata": {},
   "outputs": [
    {
     "data": {
      "image/svg+xml": [
       "<svg xmlns=\"http://www.w3.org/2000/svg\" width=\"800\" height=\"600\" version=\"1.1\"><g><rect x=\"0\" y=\"0\" width=\"800\" height=\"600\" fill=\"#f9f9f9\"/><g transform=\"translate(40 40)\"><g transform=\"translate(16 0)\"><text x=\"0\" y=\"0\" fill=\"#333\" font-family=\"Monaco\" font-size=\"16\">Customizing Columns</text></g><g transform=\"translate(0 20)\"><g transform=\"translate(16 0)\"><g class=\"axis bottom\"><g class=\"tick\"><line x1=\"88\" y1=\"0\" x2=\"88\" y2=\"482.0\" stroke=\"#eee\" stroke-width=\"1\"/><text x=\"88\" y=\"486.0\" dy=\"1em\" fill=\"#9c9c9c\" text-anchor=\"middle\" font-family=\"Monaco\" font-size=\"14\">A</text></g><g class=\"tick\"><line x1=\"264\" y1=\"0\" x2=\"264\" y2=\"482.0\" stroke=\"#eee\" stroke-width=\"1\"/><text x=\"264\" y=\"486.0\" dy=\"1em\" fill=\"#9c9c9c\" text-anchor=\"middle\" font-family=\"Monaco\" font-size=\"14\">B</text></g><g class=\"tick\"><line x1=\"440\" y1=\"0\" x2=\"440\" y2=\"482.0\" stroke=\"#eee\" stroke-width=\"1\"/><text x=\"440\" y=\"486.0\" dy=\"1em\" fill=\"#9c9c9c\" text-anchor=\"middle\" font-family=\"Monaco\" font-size=\"14\">C</text></g><g class=\"tick\"><line x1=\"616\" y1=\"0\" x2=\"616\" y2=\"482.0\" stroke=\"#eee\" stroke-width=\"1\"/><text x=\"616\" y=\"486.0\" dy=\"1em\" fill=\"#9c9c9c\" text-anchor=\"middle\" font-family=\"Monaco\" font-size=\"14\">D</text></g></g><g class=\"axis left\"><g class=\"tick\"><line x1=\"-4\" y1=\"358.50\" x2=\"704.0\" y2=\"358.50\" stroke=\"#eee\" stroke-width=\"1\"/><text x=\"-8\" y=\"358.50\" dy=\"0.32em\" fill=\"#9c9c9c\" text-anchor=\"end\" font-family=\"Monaco\" font-size=\"14\">1</text></g><g class=\"tick\"><line x1=\"-4\" y1=\"239.0\" x2=\"704.0\" y2=\"239.0\" stroke=\"#eee\" stroke-width=\"1\"/><text x=\"-8\" y=\"239.0\" dy=\"0.32em\" fill=\"#9c9c9c\" text-anchor=\"end\" font-family=\"Monaco\" font-size=\"14\">2</text></g><g class=\"tick\"><line x1=\"-4\" y1=\"119.50\" x2=\"704.0\" y2=\"119.50\" stroke=\"#eee\" stroke-width=\"1\"/><text x=\"-8\" y=\"119.50\" dy=\"0.32em\" fill=\"#9c9c9c\" text-anchor=\"end\" font-family=\"Monaco\" font-size=\"14\">3</text></g><g class=\"tick\"><line x1=\"-4\" y1=\"0\" x2=\"704.0\" y2=\"0\" stroke=\"#eee\" stroke-width=\"1\"/><text x=\"-8\" y=\"0\" dy=\"0.32em\" fill=\"#9c9c9c\" text-anchor=\"end\" font-family=\"Monaco\" font-size=\"14\">4</text></g><g class=\"tick\"><line x1=\"-4\" y1=\"478\" x2=\"704.0\" y2=\"478\" stroke=\"#a8a8a8\" stroke-width=\"1\"/><text x=\"-8\" y=\"478\" dy=\"0.32em\" fill=\"#9c9c9c\" text-anchor=\"end\" font-family=\"Monaco\" font-size=\"14\">0</text></g></g><g><g class=\"series columns\"><rect x=\"8.8\" y=\"358.50\" width=\"158.4\" height=\"119.50\" fill=\"#77ff77\"/><rect x=\"184.8\" y=\"239.0\" width=\"158.4\" height=\"239.0\" fill=\"#77ff77\"/><rect x=\"360.8\" y=\"119.50\" width=\"158.4\" height=\"358.50\" fill=\"#77ff77\"/><rect x=\"536.8\" y=\"0\" width=\"158.4\" height=\"478\" fill=\"#77ff77\"/></g></g></g></g></g></g></svg>"
      ],
      "text/plain": [
       "<IPython.core.display.SVG object>"
      ]
     },
     "execution_count": 21,
     "metadata": {},
     "output_type": "execute_result"
    }
   ],
   "source": [
    "chart = leather.Chart('Customizing Columns')\n",
    "chart.add_columns(data, fill_color='#77ff77')\n",
    "chart.to_svg()"
   ]
  },
  {
   "cell_type": "code",
   "execution_count": 22,
   "id": "16a198a7-43ab-4517-92a8-063436bbe822",
   "metadata": {},
   "outputs": [
    {
     "data": {
      "image/svg+xml": [
       "<svg xmlns=\"http://www.w3.org/2000/svg\" width=\"800\" height=\"600\" version=\"1.1\"><g><rect x=\"0\" y=\"0\" width=\"800\" height=\"600\" fill=\"#f9f9f9\"/><g transform=\"translate(40 40)\"><g transform=\"translate(16 0)\"><text x=\"0\" y=\"0\" fill=\"#333\" font-family=\"Monaco\" font-size=\"16\">The Ordinal Scale</text></g><g transform=\"translate(0 20)\"><g transform=\"translate(16 0)\"><g class=\"axis bottom\"><g class=\"tick\"><line x1=\"88\" y1=\"0\" x2=\"88\" y2=\"482.0\" stroke=\"#eee\" stroke-width=\"1\"/><text x=\"88\" y=\"486.0\" dy=\"1em\" fill=\"#9c9c9c\" text-anchor=\"middle\" font-family=\"Monaco\" font-size=\"14\">A</text></g><g class=\"tick\"><line x1=\"264\" y1=\"0\" x2=\"264\" y2=\"482.0\" stroke=\"#eee\" stroke-width=\"1\"/><text x=\"264\" y=\"486.0\" dy=\"1em\" fill=\"#9c9c9c\" text-anchor=\"middle\" font-family=\"Monaco\" font-size=\"14\">B</text></g><g class=\"tick\"><line x1=\"440\" y1=\"0\" x2=\"440\" y2=\"482.0\" stroke=\"#eee\" stroke-width=\"1\"/><text x=\"440\" y=\"486.0\" dy=\"1em\" fill=\"#9c9c9c\" text-anchor=\"middle\" font-family=\"Monaco\" font-size=\"14\">C</text></g><g class=\"tick\"><line x1=\"616\" y1=\"0\" x2=\"616\" y2=\"482.0\" stroke=\"#eee\" stroke-width=\"1\"/><text x=\"616\" y=\"486.0\" dy=\"1em\" fill=\"#9c9c9c\" text-anchor=\"middle\" font-family=\"Monaco\" font-size=\"14\">D</text></g></g><g class=\"axis left\"><g class=\"tick\"><line x1=\"-4\" y1=\"358.50\" x2=\"704.0\" y2=\"358.50\" stroke=\"#eee\" stroke-width=\"1\"/><text x=\"-8\" y=\"358.50\" dy=\"0.32em\" fill=\"#9c9c9c\" text-anchor=\"end\" font-family=\"Monaco\" font-size=\"14\">1</text></g><g class=\"tick\"><line x1=\"-4\" y1=\"239.0\" x2=\"704.0\" y2=\"239.0\" stroke=\"#eee\" stroke-width=\"1\"/><text x=\"-8\" y=\"239.0\" dy=\"0.32em\" fill=\"#9c9c9c\" text-anchor=\"end\" font-family=\"Monaco\" font-size=\"14\">2</text></g><g class=\"tick\"><line x1=\"-4\" y1=\"119.50\" x2=\"704.0\" y2=\"119.50\" stroke=\"#eee\" stroke-width=\"1\"/><text x=\"-8\" y=\"119.50\" dy=\"0.32em\" fill=\"#9c9c9c\" text-anchor=\"end\" font-family=\"Monaco\" font-size=\"14\">3</text></g><g class=\"tick\"><line x1=\"-4\" y1=\"0\" x2=\"704.0\" y2=\"0\" stroke=\"#eee\" stroke-width=\"1\"/><text x=\"-8\" y=\"0\" dy=\"0.32em\" fill=\"#9c9c9c\" text-anchor=\"end\" font-family=\"Monaco\" font-size=\"14\">4</text></g><g class=\"tick\"><line x1=\"-4\" y1=\"478\" x2=\"704.0\" y2=\"478\" stroke=\"#a8a8a8\" stroke-width=\"1\"/><text x=\"-8\" y=\"478\" dy=\"0.32em\" fill=\"#9c9c9c\" text-anchor=\"end\" font-family=\"Monaco\" font-size=\"14\">0</text></g></g><g><g class=\"series columns\"><rect x=\"8.8\" y=\"358.50\" width=\"158.4\" height=\"119.50\" fill=\"#e41a1c\"/><rect x=\"184.8\" y=\"239.0\" width=\"158.4\" height=\"239.0\" fill=\"#e41a1c\"/><rect x=\"360.8\" y=\"119.50\" width=\"158.4\" height=\"358.50\" fill=\"#e41a1c\"/><rect x=\"536.8\" y=\"0\" width=\"158.4\" height=\"478\" fill=\"#e41a1c\"/></g></g></g></g></g></g></svg>"
      ],
      "text/plain": [
       "<IPython.core.display.SVG object>"
      ]
     },
     "execution_count": 22,
     "metadata": {},
     "output_type": "execute_result"
    }
   ],
   "source": [
    "chart = leather.Chart('The Ordinal Scale')\n",
    "chart.add_columns(data)\n",
    "chart.to_svg()"
   ]
  },
  {
   "cell_type": "code",
   "execution_count": 23,
   "id": "fce21585-564e-4dc8-a19e-1f306ea8f88a",
   "metadata": {},
   "outputs": [
    {
     "data": {
      "image/svg+xml": [
       "<svg xmlns=\"http://www.w3.org/2000/svg\" width=\"800\" height=\"600\" version=\"1.1\"><g><rect x=\"0\" y=\"0\" width=\"800\" height=\"600\" fill=\"#f9f9f9\"/><g transform=\"translate(40 40)\"><g transform=\"translate(16 0)\"><text x=\"0\" y=\"0\" fill=\"#333\" font-family=\"Monaco\" font-size=\"16\">Linear Scale</text></g><g transform=\"translate(0 20)\"><g transform=\"translate(16 0)\"><g class=\"axis bottom\"><g class=\"tick\"><line x1=\"176.00\" y1=\"0\" x2=\"176.00\" y2=\"482.0\" stroke=\"#eee\" stroke-width=\"1\"/><text x=\"176.00\" y=\"486.0\" dy=\"1em\" fill=\"#9c9c9c\" text-anchor=\"middle\" font-family=\"Monaco\" font-size=\"14\">2</text></g><g class=\"tick\"><line x1=\"352.0\" y1=\"0\" x2=\"352.0\" y2=\"482.0\" stroke=\"#eee\" stroke-width=\"1\"/><text x=\"352.0\" y=\"486.0\" dy=\"1em\" fill=\"#9c9c9c\" text-anchor=\"middle\" font-family=\"Monaco\" font-size=\"14\">4</text></g><g class=\"tick\"><line x1=\"528.00\" y1=\"0\" x2=\"528.00\" y2=\"482.0\" stroke=\"#eee\" stroke-width=\"1\"/><text x=\"528.00\" y=\"486.0\" dy=\"1em\" fill=\"#9c9c9c\" text-anchor=\"middle\" font-family=\"Monaco\" font-size=\"14\">6</text></g><g class=\"tick\"><line x1=\"704\" y1=\"0\" x2=\"704\" y2=\"482.0\" stroke=\"#eee\" stroke-width=\"1\"/><text x=\"704\" y=\"486.0\" dy=\"1em\" fill=\"#9c9c9c\" text-anchor=\"middle\" font-family=\"Monaco\" font-size=\"14\">8</text></g><g class=\"tick\"><line x1=\"0\" y1=\"0\" x2=\"0\" y2=\"482.0\" stroke=\"#a8a8a8\" stroke-width=\"1\"/><text x=\"0\" y=\"486.0\" dy=\"1em\" fill=\"#9c9c9c\" text-anchor=\"middle\" font-family=\"Monaco\" font-size=\"14\">0</text></g></g><g class=\"axis left\"><g class=\"tick\"><line x1=\"-4\" y1=\"478\" x2=\"704.0\" y2=\"478\" stroke=\"#eee\" stroke-width=\"1\"/><text x=\"-8\" y=\"478\" dy=\"0.32em\" fill=\"#9c9c9c\" text-anchor=\"end\" font-family=\"Monaco\" font-size=\"14\">1</text></g><g class=\"tick\"><line x1=\"-4\" y1=\"382.4\" x2=\"704.0\" y2=\"382.4\" stroke=\"#eee\" stroke-width=\"1\"/><text x=\"-8\" y=\"382.4\" dy=\"0.32em\" fill=\"#9c9c9c\" text-anchor=\"end\" font-family=\"Monaco\" font-size=\"14\">2</text></g><g class=\"tick\"><line x1=\"-4\" y1=\"286.8\" x2=\"704.0\" y2=\"286.8\" stroke=\"#eee\" stroke-width=\"1\"/><text x=\"-8\" y=\"286.8\" dy=\"0.32em\" fill=\"#9c9c9c\" text-anchor=\"end\" font-family=\"Monaco\" font-size=\"14\">3</text></g><g class=\"tick\"><line x1=\"-4\" y1=\"191.2\" x2=\"704.0\" y2=\"191.2\" stroke=\"#eee\" stroke-width=\"1\"/><text x=\"-8\" y=\"191.2\" dy=\"0.32em\" fill=\"#9c9c9c\" text-anchor=\"end\" font-family=\"Monaco\" font-size=\"14\">4</text></g><g class=\"tick\"><line x1=\"-4\" y1=\"95.6\" x2=\"704.0\" y2=\"95.6\" stroke=\"#eee\" stroke-width=\"1\"/><text x=\"-8\" y=\"95.6\" dy=\"0.32em\" fill=\"#9c9c9c\" text-anchor=\"end\" font-family=\"Monaco\" font-size=\"14\">5</text></g><g class=\"tick\"><line x1=\"-4\" y1=\"0\" x2=\"704.0\" y2=\"0\" stroke=\"#eee\" stroke-width=\"1\"/><text x=\"-8\" y=\"0\" dy=\"0.32em\" fill=\"#9c9c9c\" text-anchor=\"end\" font-family=\"Monaco\" font-size=\"14\">6</text></g></g><g><g class=\"series lines\"><path stroke=\"#e41a1c\" fill=\"none\" stroke-width=\"2\" d=\"M 132.0000 382.4 L 176.00 286.8 L 396.0000 0 L 660.0000 191.2\"/></g></g></g></g></g></g></svg>"
      ],
      "text/plain": [
       "<IPython.core.display.SVG object>"
      ]
     },
     "execution_count": 23,
     "metadata": {},
     "output_type": "execute_result"
    }
   ],
   "source": [
    "chart = leather.Chart('Linear Scale')\n",
    "chart.add_x_scale(1,8)\n",
    "chart.add_y_scale(1,6)\n",
    "chart.add_line(data1)\n",
    "chart.to_svg()"
   ]
  },
  {
   "cell_type": "code",
   "execution_count": 24,
   "id": "420c8174-4c02-4a80-9486-6c363618c825",
   "metadata": {},
   "outputs": [
    {
     "data": {
      "image/svg+xml": [
       "<svg xmlns=\"http://www.w3.org/2000/svg\" width=\"800\" height=\"600\" version=\"1.1\"><g><rect x=\"0\" y=\"0\" width=\"800\" height=\"600\" fill=\"#f9f9f9\"/><g transform=\"translate(40 40)\"><g transform=\"translate(16 0)\"><text x=\"0\" y=\"0\" fill=\"#333\" font-family=\"Monaco\" font-size=\"16\">Temporal Scale</text></g><g transform=\"translate(0 20)\"><g transform=\"translate(16 0)\"><g class=\"axis bottom\"><g class=\"tick\"><line x1=\"0.0\" y1=\"0\" x2=\"0.0\" y2=\"482.0\" stroke=\"#eee\" stroke-width=\"1\"/><text x=\"0.0\" y=\"486.0\" dy=\"1em\" fill=\"#9c9c9c\" text-anchor=\"middle\" font-family=\"Monaco\" font-size=\"14\">2019-09</text></g><g class=\"tick\"><line x1=\"176.0\" y1=\"0\" x2=\"176.0\" y2=\"482.0\" stroke=\"#eee\" stroke-width=\"1\"/><text x=\"176.0\" y=\"486.0\" dy=\"1em\" fill=\"#9c9c9c\" text-anchor=\"middle\" font-family=\"Monaco\" font-size=\"14\">2020-01</text></g><g class=\"tick\"><line x1=\"350.55737704918033\" y1=\"0\" x2=\"350.55737704918033\" y2=\"482.0\" stroke=\"#eee\" stroke-width=\"1\"/><text x=\"350.55737704918033\" y=\"486.0\" dy=\"1em\" fill=\"#9c9c9c\" text-anchor=\"middle\" font-family=\"Monaco\" font-size=\"14\">2020-05</text></g><g class=\"tick\"><line x1=\"528.0\" y1=\"0\" x2=\"528.0\" y2=\"482.0\" stroke=\"#eee\" stroke-width=\"1\"/><text x=\"528.0\" y=\"486.0\" dy=\"1em\" fill=\"#9c9c9c\" text-anchor=\"middle\" font-family=\"Monaco\" font-size=\"14\">2020-09</text></g><g class=\"tick\"><line x1=\"704.0\" y1=\"0\" x2=\"704.0\" y2=\"482.0\" stroke=\"#eee\" stroke-width=\"1\"/><text x=\"704.0\" y=\"486.0\" dy=\"1em\" fill=\"#9c9c9c\" text-anchor=\"middle\" font-family=\"Monaco\" font-size=\"14\">2021-01</text></g></g><g class=\"axis left\"><g class=\"tick\"><line x1=\"-4\" y1=\"478\" x2=\"704.0\" y2=\"478\" stroke=\"#eee\" stroke-width=\"1\"/><text x=\"-8\" y=\"478\" dy=\"0.32em\" fill=\"#9c9c9c\" text-anchor=\"end\" font-family=\"Monaco\" font-size=\"14\">1</text></g><g class=\"tick\"><line x1=\"-4\" y1=\"382.4\" x2=\"704.0\" y2=\"382.4\" stroke=\"#eee\" stroke-width=\"1\"/><text x=\"-8\" y=\"382.4\" dy=\"0.32em\" fill=\"#9c9c9c\" text-anchor=\"end\" font-family=\"Monaco\" font-size=\"14\">2</text></g><g class=\"tick\"><line x1=\"-4\" y1=\"286.8\" x2=\"704.0\" y2=\"286.8\" stroke=\"#eee\" stroke-width=\"1\"/><text x=\"-8\" y=\"286.8\" dy=\"0.32em\" fill=\"#9c9c9c\" text-anchor=\"end\" font-family=\"Monaco\" font-size=\"14\">3</text></g><g class=\"tick\"><line x1=\"-4\" y1=\"191.2\" x2=\"704.0\" y2=\"191.2\" stroke=\"#eee\" stroke-width=\"1\"/><text x=\"-8\" y=\"191.2\" dy=\"0.32em\" fill=\"#9c9c9c\" text-anchor=\"end\" font-family=\"Monaco\" font-size=\"14\">4</text></g><g class=\"tick\"><line x1=\"-4\" y1=\"95.6\" x2=\"704.0\" y2=\"95.6\" stroke=\"#eee\" stroke-width=\"1\"/><text x=\"-8\" y=\"95.6\" dy=\"0.32em\" fill=\"#9c9c9c\" text-anchor=\"end\" font-family=\"Monaco\" font-size=\"14\">5</text></g><g class=\"tick\"><line x1=\"-4\" y1=\"0\" x2=\"704.0\" y2=\"0\" stroke=\"#eee\" stroke-width=\"1\"/><text x=\"-8\" y=\"0\" dy=\"0.32em\" fill=\"#9c9c9c\" text-anchor=\"end\" font-family=\"Monaco\" font-size=\"14\">6</text></g></g><g><g class=\"series lines\"><path stroke=\"#e41a1c\" fill=\"none\" stroke-width=\"2\" d=\"M 176.0 191.2 L 262.55737704918033 0 L 395.27868852459017 382.4 L 528.0 478\"/></g></g></g></g></g></g></svg>"
      ],
      "text/plain": [
       "<IPython.core.display.SVG object>"
      ]
     },
     "execution_count": 24,
     "metadata": {},
     "output_type": "execute_result"
    }
   ],
   "source": [
    "from datetime import date\n",
    "data = [\n",
    "    (date(2020,1,1),4),\n",
    "    (date(2020,3,1),6),\n",
    "    (date(2020,6,1),2),\n",
    "    (date(2020,9,1),1)]\n",
    "\n",
    "chart = leather.Chart('Temporal Scale')\n",
    "chart.add_x_scale(date(2019,9,1), date(2020,12,1))\n",
    "chart.add_line(data)\n",
    "chart.to_svg()"
   ]
  },
  {
   "cell_type": "code",
   "execution_count": 25,
   "id": "df862a2b-3eaa-4f4a-9dce-413d0e22cce0",
   "metadata": {},
   "outputs": [
    {
     "data": {
      "image/svg+xml": [
       "<svg xmlns=\"http://www.w3.org/2000/svg\" width=\"800\" height=\"600\" version=\"1.1\"><g><rect x=\"0\" y=\"0\" width=\"800\" height=\"600\" fill=\"#f9f9f9\"/><g transform=\"translate(40 40)\"><g transform=\"translate(16 0)\"><text x=\"0\" y=\"0\" fill=\"#333\" font-family=\"Monaco\" font-size=\"16\">Ticks Demo</text></g><g transform=\"translate(0 20)\"><g transform=\"translate(16 0)\"><g class=\"axis bottom\"><g class=\"tick\"><line x1=\"88.000\" y1=\"0\" x2=\"88.000\" y2=\"482.0\" stroke=\"#eee\" stroke-width=\"1\"/><text x=\"88.000\" y=\"486.0\" dy=\"1em\" fill=\"#9c9c9c\" text-anchor=\"middle\" font-family=\"Monaco\" font-size=\"14\">1</text></g><g class=\"tick\"><line x1=\"176.00\" y1=\"0\" x2=\"176.00\" y2=\"482.0\" stroke=\"#eee\" stroke-width=\"1\"/><text x=\"176.00\" y=\"486.0\" dy=\"1em\" fill=\"#9c9c9c\" text-anchor=\"middle\" font-family=\"Monaco\" font-size=\"14\">2</text></g><g class=\"tick\"><line x1=\"264.000\" y1=\"0\" x2=\"264.000\" y2=\"482.0\" stroke=\"#eee\" stroke-width=\"1\"/><text x=\"264.000\" y=\"486.0\" dy=\"1em\" fill=\"#9c9c9c\" text-anchor=\"middle\" font-family=\"Monaco\" font-size=\"14\">3</text></g><g class=\"tick\"><line x1=\"352.0\" y1=\"0\" x2=\"352.0\" y2=\"482.0\" stroke=\"#eee\" stroke-width=\"1\"/><text x=\"352.0\" y=\"486.0\" dy=\"1em\" fill=\"#9c9c9c\" text-anchor=\"middle\" font-family=\"Monaco\" font-size=\"14\">4</text></g><g class=\"tick\"><line x1=\"440.000\" y1=\"0\" x2=\"440.000\" y2=\"482.0\" stroke=\"#eee\" stroke-width=\"1\"/><text x=\"440.000\" y=\"486.0\" dy=\"1em\" fill=\"#9c9c9c\" text-anchor=\"middle\" font-family=\"Monaco\" font-size=\"14\">5</text></g><g class=\"tick\"><line x1=\"528.00\" y1=\"0\" x2=\"528.00\" y2=\"482.0\" stroke=\"#eee\" stroke-width=\"1\"/><text x=\"528.00\" y=\"486.0\" dy=\"1em\" fill=\"#9c9c9c\" text-anchor=\"middle\" font-family=\"Monaco\" font-size=\"14\">6</text></g><g class=\"tick\"><line x1=\"616.000\" y1=\"0\" x2=\"616.000\" y2=\"482.0\" stroke=\"#eee\" stroke-width=\"1\"/><text x=\"616.000\" y=\"486.0\" dy=\"1em\" fill=\"#9c9c9c\" text-anchor=\"middle\" font-family=\"Monaco\" font-size=\"14\">7</text></g><g class=\"tick\"><line x1=\"704\" y1=\"0\" x2=\"704\" y2=\"482.0\" stroke=\"#eee\" stroke-width=\"1\"/><text x=\"704\" y=\"486.0\" dy=\"1em\" fill=\"#9c9c9c\" text-anchor=\"middle\" font-family=\"Monaco\" font-size=\"14\">8</text></g></g><g class=\"axis left\"><g class=\"tick\"><line x1=\"-4\" y1=\"414.2666666666666666666666667\" x2=\"704.0\" y2=\"414.2666666666666666666666667\" stroke=\"#eee\" stroke-width=\"1\"/><text x=\"-8\" y=\"414.2666666666666666666666667\" dy=\"0.32em\" fill=\"#9c9c9c\" text-anchor=\"end\" font-family=\"Monaco\" font-size=\"14\">1</text></g><g class=\"tick\"><line x1=\"-4\" y1=\"350.5333333333333333333333333\" x2=\"704.0\" y2=\"350.5333333333333333333333333\" stroke=\"#eee\" stroke-width=\"1\"/><text x=\"-8\" y=\"350.5333333333333333333333333\" dy=\"0.32em\" fill=\"#9c9c9c\" text-anchor=\"end\" font-family=\"Monaco\" font-size=\"14\">2</text></g><g class=\"tick\"><line x1=\"-4\" y1=\"286.8\" x2=\"704.0\" y2=\"286.8\" stroke=\"#eee\" stroke-width=\"1\"/><text x=\"-8\" y=\"286.8\" dy=\"0.32em\" fill=\"#9c9c9c\" text-anchor=\"end\" font-family=\"Monaco\" font-size=\"14\">3</text></g><g class=\"tick\"><line x1=\"-4\" y1=\"223.0666666666666666666666667\" x2=\"704.0\" y2=\"223.0666666666666666666666667\" stroke=\"#eee\" stroke-width=\"1\"/><text x=\"-8\" y=\"223.0666666666666666666666667\" dy=\"0.32em\" fill=\"#9c9c9c\" text-anchor=\"end\" font-family=\"Monaco\" font-size=\"14\">4</text></g><g class=\"tick\"><line x1=\"-4\" y1=\"159.3333333333333333333333333\" x2=\"704.0\" y2=\"159.3333333333333333333333333\" stroke=\"#eee\" stroke-width=\"1\"/><text x=\"-8\" y=\"159.3333333333333333333333333\" dy=\"0.32em\" fill=\"#9c9c9c\" text-anchor=\"end\" font-family=\"Monaco\" font-size=\"14\">5</text></g><g class=\"tick\"><line x1=\"-4\" y1=\"95.6\" x2=\"704.0\" y2=\"95.6\" stroke=\"#eee\" stroke-width=\"1\"/><text x=\"-8\" y=\"95.6\" dy=\"0.32em\" fill=\"#9c9c9c\" text-anchor=\"end\" font-family=\"Monaco\" font-size=\"14\">6</text></g><g class=\"tick\"><line x1=\"-4\" y1=\"31.8666666666666666666666667\" x2=\"704.0\" y2=\"31.8666666666666666666666667\" stroke=\"#eee\" stroke-width=\"1\"/><text x=\"-8\" y=\"31.8666666666666666666666667\" dy=\"0.32em\" fill=\"#9c9c9c\" text-anchor=\"end\" font-family=\"Monaco\" font-size=\"14\">7</text></g></g><g><g class=\"series lines\"><path stroke=\"#e41a1c\" fill=\"none\" stroke-width=\"2\" d=\"M 132.0000 350.5333333333333333333333333 L 176.00 286.8 L 396.0000 95.6 L 660.0000 223.0666666666666666666666667\"/></g></g></g></g></g></g></svg>"
      ],
      "text/plain": [
       "<IPython.core.display.SVG object>"
      ]
     },
     "execution_count": 25,
     "metadata": {},
     "output_type": "execute_result"
    }
   ],
   "source": [
    "chart = leather.Chart('Ticks Demo')\n",
    "chart.add_x_scale(1, 8)\n",
    "chart.add_x_axis(ticks=[1, 2, 3, 4, 5, 6, 7, 8])\n",
    "chart.add_y_scale(1, 7)\n",
    "chart.add_y_axis(ticks=[1, 2, 3, 4, 5, 6, 7])\n",
    "chart.add_line(data1)\n",
    "chart.to_svg()"
   ]
  },
  {
   "cell_type": "code",
   "execution_count": 26,
   "id": "12f5aae1-017a-42b2-949a-ba1e422eefe1",
   "metadata": {},
   "outputs": [
    {
     "data": {
      "image/svg+xml": [
       "<svg xmlns=\"http://www.w3.org/2000/svg\" width=\"800\" height=\"600\" version=\"1.1\"><g><rect x=\"0\" y=\"0\" width=\"800\" height=\"600\" fill=\"#f9f9f9\"/><g transform=\"translate(40 40)\"><g transform=\"translate(16 0)\"><text x=\"0\" y=\"0\" fill=\"#333\" font-family=\"Times New Roman\" font-size=\"16\">Custom Fonts</text><g transform=\"translate(0 20)\"><g transform=\"translate(0 0)\"><rect x=\"0\" y=\"-10\" width=\"10\" height=\"10\" fill=\"#ff0000\"/><text x=\"14\" y=\"0\" fill=\"#666\" font-family=\"Times New Roman\" font-size=\"14\">Unnamed series</text></g><g transform=\"translate(158 0)\"><rect x=\"0\" y=\"-10\" width=\"10\" height=\"10\" fill=\"#00ff00\"/><text x=\"14\" y=\"0\" fill=\"#666\" font-family=\"Times New Roman\" font-size=\"14\">Unnamed series</text></g></g></g><g transform=\"translate(0 38)\"><g transform=\"translate(16 0)\"><g class=\"axis bottom\"><g class=\"tick\"><line x1=\"234.6666666666666666666666666\" y1=\"0\" x2=\"234.6666666666666666666666666\" y2=\"464.0\" stroke=\"#eee\" stroke-width=\"1\"/><text x=\"234.6666666666666666666666666\" y=\"468.0\" dy=\"1em\" fill=\"#9c9c9c\" text-anchor=\"middle\" font-family=\"Times New Roman\" font-size=\"14\">2.5</text></g><g class=\"tick\"><line x1=\"469.3333333333333333333333334\" y1=\"0\" x2=\"469.3333333333333333333333334\" y2=\"464.0\" stroke=\"#eee\" stroke-width=\"1\"/><text x=\"469.3333333333333333333333334\" y=\"468.0\" dy=\"1em\" fill=\"#9c9c9c\" text-anchor=\"middle\" font-family=\"Times New Roman\" font-size=\"14\">5</text></g><g class=\"tick\"><line x1=\"704\" y1=\"0\" x2=\"704\" y2=\"464.0\" stroke=\"#eee\" stroke-width=\"1\"/><text x=\"704\" y=\"468.0\" dy=\"1em\" fill=\"#9c9c9c\" text-anchor=\"middle\" font-family=\"Times New Roman\" font-size=\"14\">7.5</text></g><g class=\"tick\"><line x1=\"0\" y1=\"0\" x2=\"0\" y2=\"464.0\" stroke=\"#a8a8a8\" stroke-width=\"1\"/><text x=\"0\" y=\"468.0\" dy=\"1em\" fill=\"#9c9c9c\" text-anchor=\"middle\" font-family=\"Times New Roman\" font-size=\"14\">0</text></g></g><g class=\"axis left\"><g class=\"tick\"><line x1=\"-4\" y1=\"460\" x2=\"704.0\" y2=\"460\" stroke=\"#eee\" stroke-width=\"1\"/><text x=\"-8\" y=\"460\" dy=\"0.32em\" fill=\"#9c9c9c\" text-anchor=\"end\" font-family=\"Times New Roman\" font-size=\"14\">2</text></g><g class=\"tick\"><line x1=\"-4\" y1=\"345.00\" x2=\"704.0\" y2=\"345.00\" stroke=\"#eee\" stroke-width=\"1\"/><text x=\"-8\" y=\"345.00\" dy=\"0.32em\" fill=\"#9c9c9c\" text-anchor=\"end\" font-family=\"Times New Roman\" font-size=\"14\">3</text></g><g class=\"tick\"><line x1=\"-4\" y1=\"230.0\" x2=\"704.0\" y2=\"230.0\" stroke=\"#eee\" stroke-width=\"1\"/><text x=\"-8\" y=\"230.0\" dy=\"0.32em\" fill=\"#9c9c9c\" text-anchor=\"end\" font-family=\"Times New Roman\" font-size=\"14\">4</text></g><g class=\"tick\"><line x1=\"-4\" y1=\"115.00\" x2=\"704.0\" y2=\"115.00\" stroke=\"#eee\" stroke-width=\"1\"/><text x=\"-8\" y=\"115.00\" dy=\"0.32em\" fill=\"#9c9c9c\" text-anchor=\"end\" font-family=\"Times New Roman\" font-size=\"14\">5</text></g><g class=\"tick\"><line x1=\"-4\" y1=\"0\" x2=\"704.0\" y2=\"0\" stroke=\"#eee\" stroke-width=\"1\"/><text x=\"-8\" y=\"0\" dy=\"0.32em\" fill=\"#9c9c9c\" text-anchor=\"end\" font-family=\"Times New Roman\" font-size=\"14\">6</text></g></g><g><g class=\"series lines\"><path stroke=\"#ff0000\" fill=\"none\" stroke-width=\"2\" d=\"M 140.8 460 L 187.7333333333333333333333334 345.00 L 422.4 0 L 704 230.0\"/></g><g class=\"series lines\"><path stroke=\"#00ff00\" fill=\"none\" stroke-width=\"2\" d=\"M 187.7333333333333333333333334 345.00 L 375.4666666666666666666666666 115.00 L 469.3333333333333333333333334 0 L 657.0666666666666666666666666 115.00\"/></g></g></g></g></g></g></svg>"
      ],
      "text/plain": [
       "<IPython.core.display.SVG object>"
      ]
     },
     "execution_count": 26,
     "metadata": {},
     "output_type": "execute_result"
    }
   ],
   "source": [
    "leather.theme.title_font_family = 'Times New Roman'\n",
    "leather.theme.legend_font_family = 'Times New Roman'\n",
    "leather.theme.tick_font_family = 'Times New Roman'\n",
    "leather.theme.default_series_colors = ['#ff0000', '#00ff00']\n",
    "chart = leather.Chart('Custom Fonts')\n",
    "chart.add_line(data1)\n",
    "chart.add_line(data2)\n",
    "chart.to_svg()"
   ]
  },
  {
   "cell_type": "code",
   "execution_count": 28,
   "id": "8b27ae30-fbb2-40e5-8865-3d868323caa9",
   "metadata": {},
   "outputs": [
    {
     "data": {
      "image/svg+xml": [
       "<svg xmlns=\"http://www.w3.org/2000/svg\" width=\"800\" height=\"600\" version=\"1.1\"><g><rect x=\"0\" y=\"0\" width=\"800\" height=\"600\" fill=\"#f9f9f9\"/><g transform=\"translate(40 40)\"><g transform=\"translate(32 0)\"><text x=\"0\" y=\"0\" fill=\"#333\" font-family=\"Times New Roman\" font-size=\"16\">Colorized dots</text></g><g transform=\"translate(0 20)\"><g transform=\"translate(32 0)\"><g class=\"axis bottom\"><g class=\"tick\"><line x1=\"229.3333333333333333333333333\" y1=\"0\" x2=\"229.3333333333333333333333333\" y2=\"482.0\" stroke=\"#eee\" stroke-width=\"1\"/><text x=\"229.3333333333333333333333333\" y=\"486.0\" dy=\"1em\" fill=\"#9c9c9c\" text-anchor=\"middle\" font-family=\"Times New Roman\" font-size=\"14\">100</text></g><g class=\"tick\"><line x1=\"458.6666666666666666666666667\" y1=\"0\" x2=\"458.6666666666666666666666667\" y2=\"482.0\" stroke=\"#eee\" stroke-width=\"1\"/><text x=\"458.6666666666666666666666667\" y=\"486.0\" dy=\"1em\" fill=\"#9c9c9c\" text-anchor=\"middle\" font-family=\"Times New Roman\" font-size=\"14\">200</text></g><g class=\"tick\"><line x1=\"688\" y1=\"0\" x2=\"688\" y2=\"482.0\" stroke=\"#eee\" stroke-width=\"1\"/><text x=\"688\" y=\"486.0\" dy=\"1em\" fill=\"#9c9c9c\" text-anchor=\"middle\" font-family=\"Times New Roman\" font-size=\"14\">300</text></g><g class=\"tick\"><line x1=\"0\" y1=\"0\" x2=\"0\" y2=\"482.0\" stroke=\"#a8a8a8\" stroke-width=\"1\"/><text x=\"0\" y=\"486.0\" dy=\"1em\" fill=\"#9c9c9c\" text-anchor=\"middle\" font-family=\"Times New Roman\" font-size=\"14\">0</text></g></g><g class=\"axis left\"><g class=\"tick\"><line x1=\"-4\" y1=\"318.6666666666666666666666667\" x2=\"688.0\" y2=\"318.6666666666666666666666667\" stroke=\"#eee\" stroke-width=\"1\"/><text x=\"-8\" y=\"318.6666666666666666666666667\" dy=\"0.32em\" fill=\"#9c9c9c\" text-anchor=\"end\" font-family=\"Times New Roman\" font-size=\"14\">100</text></g><g class=\"tick\"><line x1=\"-4\" y1=\"159.3333333333333333333333333\" x2=\"688.0\" y2=\"159.3333333333333333333333333\" stroke=\"#eee\" stroke-width=\"1\"/><text x=\"-8\" y=\"159.3333333333333333333333333\" dy=\"0.32em\" fill=\"#9c9c9c\" text-anchor=\"end\" font-family=\"Times New Roman\" font-size=\"14\">200</text></g><g class=\"tick\"><line x1=\"-4\" y1=\"0\" x2=\"688.0\" y2=\"0\" stroke=\"#eee\" stroke-width=\"1\"/><text x=\"-8\" y=\"0\" dy=\"0.32em\" fill=\"#9c9c9c\" text-anchor=\"end\" font-family=\"Times New Roman\" font-size=\"14\">300</text></g><g class=\"tick\"><line x1=\"-4\" y1=\"478\" x2=\"688.0\" y2=\"478\" stroke=\"#a8a8a8\" stroke-width=\"1\"/><text x=\"-8\" y=\"478\" dy=\"0.32em\" fill=\"#9c9c9c\" text-anchor=\"end\" font-family=\"Times New Roman\" font-size=\"14\">0</text></g></g><g><g class=\"series dots\"><circle cx=\"22.93333333333333333333333333\" cy=\"269.2733333333333333333333333\" r=\"3\" fill=\"rgb(10, 131, 150)\"/><circle cx=\"183.4666666666666666666666667\" cy=\"383.9933333333333333333333333\" r=\"3\" fill=\"rgb(80, 59, 150)\"/><circle cx=\"201.8133333333333333333333333\" cy=\"208.7266666666666666666666667\" r=\"3\" fill=\"rgb(88, 169, 150)\"/><circle cx=\"181.1733333333333333333333333\" cy=\"423.8266666666666666666666667\" r=\"3\" fill=\"rgb(79, 34, 150)\"/><circle cx=\"516.00\" cy=\"289.9866666666666666666666667\" r=\"3\" fill=\"rgb(225, 118, 150)\"/><circle cx=\"52.74666666666666666666666667\" cy=\"460.4733333333333333333333333\" r=\"3\" fill=\"rgb(23, 11, 150)\"/><circle cx=\"167.4133333333333333333333333\" cy=\"178.4533333333333333333333333\" r=\"3\" fill=\"rgb(73, 188, 150)\"/><circle cx=\"529.76\" cy=\"395.1466666666666666666666667\" r=\"3\" fill=\"rgb(231, 52, 150)\"/><circle cx=\"410.5066666666666666666666667\" cy=\"181.64\" r=\"3\" fill=\"rgb(179, 186, 150)\"/><circle cx=\"405.92\" cy=\"350.5333333333333333333333333\" r=\"3\" fill=\"rgb(177, 80, 150)\"/><circle cx=\"497.6533333333333333333333333\" cy=\"277.24\" r=\"3\" fill=\"rgb(217, 126, 150)\"/><circle cx=\"513.7066666666666666666666667\" cy=\"194.3866666666666666666666667\" r=\"3\" fill=\"rgb(224, 178, 150)\"/><circle cx=\"426.56\" cy=\"417.4533333333333333333333333\" r=\"3\" fill=\"rgb(186, 38, 150)\"/><circle cx=\"474.72\" cy=\"360.0933333333333333333333333\" r=\"3\" fill=\"rgb(207, 74, 150)\"/><circle cx=\"566.4533333333333333333333333\" cy=\"444.54\" r=\"3\" fill=\"rgb(247, 21, 150)\"/><circle cx=\"527.4666666666666666666666667\" cy=\"195.98\" r=\"3\" fill=\"rgb(230, 177, 150)\"/><circle cx=\"11.46666666666666666666666667\" cy=\"223.0666666666666666666666667\" r=\"3\" fill=\"rgb(5, 160, 150)\"/><circle cx=\"417.3866666666666666666666667\" cy=\"355.3133333333333333333333333\" r=\"3\" fill=\"rgb(182, 77, 150)\"/><circle cx=\"25.22666666666666666666666667\" cy=\"307.5133333333333333333333333\" r=\"3\" fill=\"rgb(11, 107, 150)\"/><circle cx=\"169.7066666666666666666666667\" cy=\"113.1266666666666666666666667\" r=\"3\" fill=\"rgb(74, 229, 150)\"/><circle cx=\"426.56\" cy=\"264.4933333333333333333333333\" r=\"3\" fill=\"rgb(186, 134, 150)\"/><circle cx=\"323.36\" cy=\"274.0533333333333333333333333\" r=\"3\" fill=\"rgb(141, 128, 150)\"/><circle cx=\"192.64\" cy=\"463.66\" r=\"3\" fill=\"rgb(84, 9, 150)\"/><circle cx=\"433.44\" cy=\"360.0933333333333333333333333\" r=\"3\" fill=\"rgb(189, 74, 150)\"/><circle cx=\"9.173333333333333333333333331\" cy=\"160.9266666666666666666666667\" r=\"3\" fill=\"rgb(4, 199, 150)\"/><circle cx=\"199.52\" cy=\"248.56\" r=\"3\" fill=\"rgb(87, 144, 150)\"/><circle cx=\"194.9333333333333333333333333\" cy=\"274.0533333333333333333333333\" r=\"3\" fill=\"rgb(85, 128, 150)\"/><circle cx=\"181.1733333333333333333333333\" cy=\"189.6066666666666666666666667\" r=\"3\" fill=\"rgb(79, 181, 150)\"/><circle cx=\"348.5866666666666666666666667\" cy=\"379.2133333333333333333333333\" r=\"3\" fill=\"rgb(152, 62, 150)\"/><circle cx=\"25.22666666666666666666666667\" cy=\"282.02\" r=\"3\" fill=\"rgb(11, 123, 150)\"/><circle cx=\"371.52\" cy=\"218.2866666666666666666666667\" r=\"3\" fill=\"rgb(162, 163, 150)\"/><circle cx=\"307.3066666666666666666666667\" cy=\"470.0333333333333333333333333\" r=\"3\" fill=\"rgb(134, 5, 150)\"/><circle cx=\"59.62666666666666666666666667\" cy=\"304.3266666666666666666666667\" r=\"3\" fill=\"rgb(26, 109, 150)\"/><circle cx=\"229.3333333333333333333333333\" cy=\"181.64\" r=\"3\" fill=\"rgb(100, 186, 150)\"/><circle cx=\"84.85333333333333333333333331\" cy=\"304.3266666666666666666666667\" r=\"3\" fill=\"rgb(37, 109, 150)\"/><circle cx=\"362.3466666666666666666666667\" cy=\"465.2533333333333333333333333\" r=\"3\" fill=\"rgb(158, 8, 150)\"/><circle cx=\"369.2266666666666666666666667\" cy=\"81.26\" r=\"3\" fill=\"rgb(161, 249, 150)\"/><circle cx=\"318.7733333333333333333333333\" cy=\"363.28\" r=\"3\" fill=\"rgb(139, 72, 150)\"/><circle cx=\"318.7733333333333333333333333\" cy=\"286.8\" r=\"3\" fill=\"rgb(139, 120, 150)\"/><circle cx=\"305.0133333333333333333333333\" cy=\"114.72\" r=\"3\" fill=\"rgb(133, 228, 150)\"/><circle cx=\"98.61333333333333333333333331\" cy=\"293.1733333333333333333333333\" r=\"3\" fill=\"rgb(43, 116, 150)\"/><circle cx=\"11.46666666666666666666666667\" cy=\"372.84\" r=\"3\" fill=\"rgb(5, 66, 150)\"/><circle cx=\"545.8133333333333333333333333\" cy=\"307.5133333333333333333333333\" r=\"3\" fill=\"rgb(238, 107, 150)\"/><circle cx=\"449.4933333333333333333333333\" cy=\"246.9666666666666666666666667\" r=\"3\" fill=\"rgb(196, 145, 150)\"/><circle cx=\"34.40\" cy=\"474.8133333333333333333333333\" r=\"3\" fill=\"rgb(15, 2, 150)\"/><circle cx=\"495.36\" cy=\"210.32\" r=\"3\" fill=\"rgb(216, 168, 150)\"/><circle cx=\"256.8533333333333333333333333\" cy=\"210.32\" r=\"3\" fill=\"rgb(112, 168, 150)\"/><circle cx=\"45.86666666666666666666666667\" cy=\"256.5266666666666666666666667\" r=\"3\" fill=\"rgb(20, 139, 150)\"/><circle cx=\"295.84\" cy=\"315.48\" r=\"3\" fill=\"rgb(129, 102, 150)\"/><circle cx=\"378.40\" cy=\"219.88\" r=\"3\" fill=\"rgb(165, 162, 150)\"/><circle cx=\"318.7733333333333333333333333\" cy=\"361.6866666666666666666666667\" r=\"3\" fill=\"rgb(139, 73, 150)\"/><circle cx=\"472.4266666666666666666666667\" cy=\"376.0266666666666666666666667\" r=\"3\" fill=\"rgb(206, 64, 150)\"/><circle cx=\"190.3466666666666666666666667\" cy=\"157.74\" r=\"3\" fill=\"rgb(83, 201, 150)\"/><circle cx=\"268.32\" cy=\"138.62\" r=\"3\" fill=\"rgb(117, 213, 150)\"/><circle cx=\"490.7733333333333333333333333\" cy=\"403.1133333333333333333333333\" r=\"3\" fill=\"rgb(214, 47, 150)\"/><circle cx=\"382.9866666666666666666666667\" cy=\"132.2466666666666666666666667\" r=\"3\" fill=\"rgb(167, 217, 150)\"/><circle cx=\"243.0933333333333333333333333\" cy=\"450.9133333333333333333333333\" r=\"3\" fill=\"rgb(106, 17, 150)\"/><circle cx=\"247.68\" cy=\"113.1266666666666666666666667\" r=\"3\" fill=\"rgb(108, 229, 150)\"/><circle cx=\"84.85333333333333333333333331\" cy=\"379.2133333333333333333333333\" r=\"3\" fill=\"rgb(37, 62, 150)\"/><circle cx=\"527.4666666666666666666666667\" cy=\"194.3866666666666666666666667\" r=\"3\" fill=\"rgb(230, 178, 150)\"/><circle cx=\"405.92\" cy=\"178.4533333333333333333333333\" r=\"3\" fill=\"rgb(177, 188, 150)\"/><circle cx=\"247.68\" cy=\"366.4666666666666666666666667\" r=\"3\" fill=\"rgb(108, 70, 150)\"/><circle cx=\"369.2266666666666666666666667\" cy=\"87.6333333333333333333333333\" r=\"3\" fill=\"rgb(161, 245, 150)\"/><circle cx=\"506.8266666666666666666666667\" cy=\"422.2333333333333333333333333\" r=\"3\" fill=\"rgb(221, 35, 150)\"/><circle cx=\"495.36\" cy=\"380.8066666666666666666666667\" r=\"3\" fill=\"rgb(216, 61, 150)\"/><circle cx=\"181.1733333333333333333333333\" cy=\"409.4866666666666666666666667\" r=\"3\" fill=\"rgb(79, 43, 150)\"/><circle cx=\"153.6533333333333333333333333\" cy=\"334.6\" r=\"3\" fill=\"rgb(67, 90, 150)\"/><circle cx=\"240.80\" cy=\"232.6266666666666666666666667\" r=\"3\" fill=\"rgb(105, 154, 150)\"/><circle cx=\"467.84\" cy=\"460.4733333333333333333333333\" r=\"3\" fill=\"rgb(204, 11, 150)\"/><circle cx=\"119.2533333333333333333333333\" cy=\"411.08\" r=\"3\" fill=\"rgb(52, 42, 150)\"/><circle cx=\"215.5733333333333333333333333\" cy=\"363.28\" r=\"3\" fill=\"rgb(94, 72, 150)\"/><circle cx=\"32.10666666666666666666666667\" cy=\"277.24\" r=\"3\" fill=\"rgb(14, 126, 150)\"/><circle cx=\"206.4\" cy=\"95.6\" r=\"3\" fill=\"rgb(90, 240, 150)\"/><circle cx=\"38.98666666666666666666666667\" cy=\"274.0533333333333333333333333\" r=\"3\" fill=\"rgb(17, 128, 150)\"/><circle cx=\"316.48\" cy=\"398.3333333333333333333333333\" r=\"3\" fill=\"rgb(138, 50, 150)\"/><circle cx=\"288.96\" cy=\"430.2\" r=\"3\" fill=\"rgb(126, 30, 150)\"/><circle cx=\"142.1866666666666666666666667\" cy=\"356.9066666666666666666666667\" r=\"3\" fill=\"rgb(62, 76, 150)\"/><circle cx=\"541.2266666666666666666666667\" cy=\"165.7066666666666666666666667\" r=\"3\" fill=\"rgb(236, 196, 150)\"/><circle cx=\"16.05333333333333333333333333\" cy=\"369.6533333333333333333333333\" r=\"3\" fill=\"rgb(7, 68, 150)\"/><circle cx=\"64.21333333333333333333333333\" cy=\"105.16\" r=\"3\" fill=\"rgb(28, 234, 150)\"/><circle cx=\"463.2533333333333333333333333\" cy=\"460.4733333333333333333333333\" r=\"3\" fill=\"rgb(202, 11, 150)\"/><circle cx=\"376.1066666666666666666666667\" cy=\"465.2533333333333333333333333\" r=\"3\" fill=\"rgb(164, 8, 150)\"/><circle cx=\"506.8266666666666666666666667\" cy=\"227.8466666666666666666666667\" r=\"3\" fill=\"rgb(221, 157, 150)\"/><circle cx=\"385.28\" cy=\"317.0733333333333333333333333\" r=\"3\" fill=\"rgb(168, 101, 150)\"/><circle cx=\"279.7866666666666666666666667\" cy=\"101.9733333333333333333333333\" r=\"3\" fill=\"rgb(122, 236, 150)\"/><circle cx=\"80.26666666666666666666666669\" cy=\"358.50\" r=\"3\" fill=\"rgb(35, 75, 150)\"/><circle cx=\"454.08\" cy=\"87.6333333333333333333333333\" r=\"3\" fill=\"rgb(198, 245, 150)\"/><circle cx=\"525.1733333333333333333333333\" cy=\"388.7733333333333333333333333\" r=\"3\" fill=\"rgb(229, 56, 150)\"/><circle cx=\"474.72\" cy=\"251.7466666666666666666666667\" r=\"3\" fill=\"rgb(207, 142, 150)\"/><circle cx=\"52.74666666666666666666666667\" cy=\"428.6066666666666666666666667\" r=\"3\" fill=\"rgb(23, 31, 150)\"/><circle cx=\"522.88\" cy=\"380.8066666666666666666666667\" r=\"3\" fill=\"rgb(228, 61, 150)\"/><circle cx=\"105.4933333333333333333333333\" cy=\"165.7066666666666666666666667\" r=\"3\" fill=\"rgb(46, 196, 150)\"/><circle cx=\"34.40\" cy=\"355.3133333333333333333333333\" r=\"3\" fill=\"rgb(15, 77, 150)\"/><circle cx=\"474.72\" cy=\"403.1133333333333333333333333\" r=\"3\" fill=\"rgb(207, 47, 150)\"/><circle cx=\"151.36\" cy=\"130.6533333333333333333333333\" r=\"3\" fill=\"rgb(66, 218, 150)\"/><circle cx=\"204.1066666666666666666666667\" cy=\"302.7333333333333333333333333\" r=\"3\" fill=\"rgb(89, 110, 150)\"/><circle cx=\"293.5466666666666666666666667\" cy=\"90.82\" r=\"3\" fill=\"rgb(128, 243, 150)\"/><circle cx=\"268.32\" cy=\"81.26\" r=\"3\" fill=\"rgb(117, 249, 150)\"/><circle cx=\"160.5333333333333333333333333\" cy=\"393.5533333333333333333333333\" r=\"3\" fill=\"rgb(70, 53, 150)\"/><circle cx=\"100.9066666666666666666666667\" cy=\"391.96\" r=\"3\" fill=\"rgb(44, 54, 150)\"/></g></g></g></g></g></g></svg>"
      ],
      "text/plain": [
       "<IPython.core.display.SVG object>"
      ]
     },
     "execution_count": 28,
     "metadata": {},
     "output_type": "execute_result"
    }
   ],
   "source": [
    "import random\n",
    "data = [(random.randint(0,250), random.randint(0,250)) for i in range(100)]\n",
    "\n",
    "def colorizer(location):\n",
    "    return 'rgb(%i, %i, %i)' % (location.x, location.y, 150)\n",
    "\n",
    "chart = leather.Chart('Colorized dots')\n",
    "chart.add_dots(data, fill_color=colorizer)\n",
    "chart.to_svg()\n"
   ]
  },
  {
   "cell_type": "code",
   "execution_count": 32,
   "id": "9a4dbbf6-ba23-46d5-a8fd-3236fe4c30da",
   "metadata": {},
   "outputs": [
    {
     "name": "stdout",
     "output_type": "stream",
     "text": [
      "4\n",
      "-5\n",
      "[ 5 -4]\n"
     ]
    }
   ],
   "source": []
  },
  {
   "cell_type": "code",
   "execution_count": null,
   "id": "eaa5eda9-b9f9-45c1-b4a4-79490f61947f",
   "metadata": {},
   "outputs": [],
   "source": []
  }
 ],
 "metadata": {
  "kernelspec": {
   "display_name": "Python 3 (ipykernel)",
   "language": "python",
   "name": "python3"
  },
  "language_info": {
   "codemirror_mode": {
    "name": "ipython",
    "version": 3
   },
   "file_extension": ".py",
   "mimetype": "text/x-python",
   "name": "python",
   "nbconvert_exporter": "python",
   "pygments_lexer": "ipython3",
   "version": "3.9.13"
  }
 },
 "nbformat": 4,
 "nbformat_minor": 5
}
